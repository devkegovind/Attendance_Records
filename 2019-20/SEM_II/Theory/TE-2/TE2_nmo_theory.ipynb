{
 "cells": [
  {
   "cell_type": "code",
   "execution_count": 35,
   "metadata": {},
   "outputs": [],
   "source": [
    "import numpy as np\n",
    "import pandas as pd"
   ]
  },
  {
   "cell_type": "code",
   "execution_count": 36,
   "metadata": {},
   "outputs": [
    {
     "data": {
      "text/html": [
       "<div>\n",
       "<style scoped>\n",
       "    .dataframe tbody tr th:only-of-type {\n",
       "        vertical-align: middle;\n",
       "    }\n",
       "\n",
       "    .dataframe tbody tr th {\n",
       "        vertical-align: top;\n",
       "    }\n",
       "\n",
       "    .dataframe thead th {\n",
       "        text-align: right;\n",
       "    }\n",
       "</style>\n",
       "<table border=\"1\" class=\"dataframe\">\n",
       "  <thead>\n",
       "    <tr style=\"text-align: right;\">\n",
       "      <th></th>\n",
       "      <th>Roll No</th>\n",
       "      <th>Name of Students</th>\n",
       "    </tr>\n",
       "  </thead>\n",
       "  <tbody>\n",
       "    <tr>\n",
       "      <th>0</th>\n",
       "      <td>3201</td>\n",
       "      <td>Kshirsagar Rohan Umesh</td>\n",
       "    </tr>\n",
       "    <tr>\n",
       "      <th>1</th>\n",
       "      <td>3202</td>\n",
       "      <td>Kshirsagar Saurabh Bhaskarrao</td>\n",
       "    </tr>\n",
       "    <tr>\n",
       "      <th>2</th>\n",
       "      <td>3203</td>\n",
       "      <td>Kulkarni Chinmay Sudhir</td>\n",
       "    </tr>\n",
       "    <tr>\n",
       "      <th>3</th>\n",
       "      <td>3204</td>\n",
       "      <td>Kulkarni Vedant Shrikant</td>\n",
       "    </tr>\n",
       "    <tr>\n",
       "      <th>4</th>\n",
       "      <td>3205</td>\n",
       "      <td>Kumkar Yadnesh Vishnu</td>\n",
       "    </tr>\n",
       "    <tr>\n",
       "      <th>...</th>\n",
       "      <td>...</td>\n",
       "      <td>...</td>\n",
       "    </tr>\n",
       "    <tr>\n",
       "      <th>59</th>\n",
       "      <td>3268</td>\n",
       "      <td>Chintamani Harsh Santosh</td>\n",
       "    </tr>\n",
       "    <tr>\n",
       "      <th>60</th>\n",
       "      <td>3269</td>\n",
       "      <td>Lawate Shashikant Muktaram</td>\n",
       "    </tr>\n",
       "    <tr>\n",
       "      <th>61</th>\n",
       "      <td>3270</td>\n",
       "      <td>Abhishek Sunil Labade</td>\n",
       "    </tr>\n",
       "    <tr>\n",
       "      <th>62</th>\n",
       "      <td>3271</td>\n",
       "      <td>Karishma Shah</td>\n",
       "    </tr>\n",
       "    <tr>\n",
       "      <th>63</th>\n",
       "      <td>3272</td>\n",
       "      <td>Vasu Zutshi</td>\n",
       "    </tr>\n",
       "  </tbody>\n",
       "</table>\n",
       "<p>64 rows × 2 columns</p>\n",
       "</div>"
      ],
      "text/plain": [
       "    Roll No               Name of Students\n",
       "0      3201         Kshirsagar Rohan Umesh\n",
       "1      3202  Kshirsagar Saurabh Bhaskarrao\n",
       "2      3203        Kulkarni Chinmay Sudhir\n",
       "3      3204       Kulkarni Vedant Shrikant\n",
       "4      3205          Kumkar Yadnesh Vishnu\n",
       "..      ...                            ...\n",
       "59     3268       Chintamani Harsh Santosh\n",
       "60     3269     Lawate Shashikant Muktaram\n",
       "61     3270          Abhishek Sunil Labade\n",
       "62     3271                  Karishma Shah\n",
       "63     3272                    Vasu Zutshi\n",
       "\n",
       "[64 rows x 2 columns]"
      ]
     },
     "execution_count": 36,
     "metadata": {},
     "output_type": "execute_result"
    }
   ],
   "source": [
    "df = pd.read_excel(\"D:\\\\Downloads\\\\te-2_19_20.xlsx\")\n",
    "df"
   ]
  },
  {
   "cell_type": "code",
   "execution_count": 37,
   "metadata": {},
   "outputs": [],
   "source": [
    "#df = df.set_index('Roll No')"
   ]
  },
  {
   "cell_type": "code",
   "execution_count": 38,
   "metadata": {},
   "outputs": [],
   "source": [
    "df['Name of Students'] = [i.title() for i in df['Name of Students'] ]"
   ]
  },
  {
   "cell_type": "code",
   "execution_count": 39,
   "metadata": {},
   "outputs": [
    {
     "data": {
      "text/html": [
       "<div>\n",
       "<style scoped>\n",
       "    .dataframe tbody tr th:only-of-type {\n",
       "        vertical-align: middle;\n",
       "    }\n",
       "\n",
       "    .dataframe tbody tr th {\n",
       "        vertical-align: top;\n",
       "    }\n",
       "\n",
       "    .dataframe thead th {\n",
       "        text-align: right;\n",
       "    }\n",
       "</style>\n",
       "<table border=\"1\" class=\"dataframe\">\n",
       "  <thead>\n",
       "    <tr style=\"text-align: right;\">\n",
       "      <th></th>\n",
       "      <th>Roll No</th>\n",
       "      <th>Name of Students</th>\n",
       "    </tr>\n",
       "  </thead>\n",
       "  <tbody>\n",
       "    <tr>\n",
       "      <th>0</th>\n",
       "      <td>3201</td>\n",
       "      <td>Kshirsagar Rohan Umesh</td>\n",
       "    </tr>\n",
       "    <tr>\n",
       "      <th>1</th>\n",
       "      <td>3202</td>\n",
       "      <td>Kshirsagar Saurabh Bhaskarrao</td>\n",
       "    </tr>\n",
       "    <tr>\n",
       "      <th>2</th>\n",
       "      <td>3203</td>\n",
       "      <td>Kulkarni Chinmay Sudhir</td>\n",
       "    </tr>\n",
       "    <tr>\n",
       "      <th>3</th>\n",
       "      <td>3204</td>\n",
       "      <td>Kulkarni Vedant Shrikant</td>\n",
       "    </tr>\n",
       "    <tr>\n",
       "      <th>4</th>\n",
       "      <td>3205</td>\n",
       "      <td>Kumkar Yadnesh Vishnu</td>\n",
       "    </tr>\n",
       "  </tbody>\n",
       "</table>\n",
       "</div>"
      ],
      "text/plain": [
       "   Roll No               Name of Students\n",
       "0     3201         Kshirsagar Rohan Umesh\n",
       "1     3202  Kshirsagar Saurabh Bhaskarrao\n",
       "2     3203        Kulkarni Chinmay Sudhir\n",
       "3     3204       Kulkarni Vedant Shrikant\n",
       "4     3205          Kumkar Yadnesh Vishnu"
      ]
     },
     "execution_count": 39,
     "metadata": {},
     "output_type": "execute_result"
    }
   ],
   "source": [
    "df.head()"
   ]
  },
  {
   "cell_type": "code",
   "execution_count": 40,
   "metadata": {},
   "outputs": [],
   "source": [
    "df.to_csv(\"TE-2[19-120].csv\")"
   ]
  },
  {
   "cell_type": "code",
   "execution_count": null,
   "metadata": {},
   "outputs": [],
   "source": []
  },
  {
   "cell_type": "code",
   "execution_count": 41,
   "metadata": {},
   "outputs": [
    {
     "data": {
      "text/plain": [
       "(64, 2)"
      ]
     },
     "execution_count": 41,
     "metadata": {},
     "output_type": "execute_result"
    }
   ],
   "source": [
    "df.shape"
   ]
  },
  {
   "attachments": {},
   "cell_type": "markdown",
   "metadata": {},
   "source": [
    "**SEMESTER ATTENDANCE**"
   ]
  },
  {
   "cell_type": "code",
   "execution_count": 42,
   "metadata": {},
   "outputs": [],
   "source": [
    "import random\n",
    "import pandas as pd\n",
    "import numpy as np\n",
    "import datetime\n",
    "from pandas.tseries.holiday import USFederalHolidayCalendar\n",
    "from pandas.tseries.offsets import CustomBusinessDay\n",
    "\n",
    "def te_students_attendance13(n, start_date, end_date):\n",
    "    \n",
    "    students = range(n)\n",
    "    \n",
    "    cal = USFederalHolidayCalendar()\n",
    "    holidays = cal.holidays(start=start_date, end=end_date)\n",
    "    \n",
    "    custom_business_day = CustomBusinessDay(weekmask='Mon Tue Thu Fri', holidays=holidays)\n",
    "\n",
    "    date_range = pd.date_range(start=start_date, end=end_date, freq=custom_business_day)\n",
    "    \n",
    "    attendance_records1 = {}\n",
    "    \n",
    "    for student in students:\n",
    "        attendance_records1[student] = []\n",
    "        \n",
    "        for day in date_range:\n",
    "            attendance_records1[student].append('P' if random.random() < 0.85 else 'A')\n",
    "                \n",
    "    df = pd.DataFrame.from_dict(attendance_records1, orient='index', columns=date_range)\n",
    "    df['Present'] = df.apply(lambda x: x[x == 'P'].count(), axis=1)\n",
    "    df['Absent'] = df.apply(lambda x: x[x == 'A'].count(), axis=1)\n",
    "    df['%Att'] = round(df['Present'] / len(date_range) * 100,2)\n",
    "    df['UT1'] = [random.randint(10,30) for i in range(0,n)]\n",
    "    df['PREL'] = [random.randint(26, 65) for i in range(0, n)]\n",
    "     \n",
    "    return df\n"
   ]
  },
  {
   "cell_type": "code",
   "execution_count": 43,
   "metadata": {},
   "outputs": [],
   "source": [
    "sem_att = pd.concat([df, te_students_attendance13(64, '2019-12-19', '2020-03-30')], axis = 1)"
   ]
  },
  {
   "cell_type": "code",
   "execution_count": 44,
   "metadata": {},
   "outputs": [],
   "source": [
    "sem_att.to_csv(\"Sem_Att.csv\")"
   ]
  },
  {
   "attachments": {},
   "cell_type": "markdown",
   "metadata": {},
   "source": [
    "**FIRST MONTH ATTENDANCE**"
   ]
  },
  {
   "cell_type": "code",
   "execution_count": 45,
   "metadata": {},
   "outputs": [],
   "source": [
    "month_1 = pd.concat([df, te_students_attendance13(64, '2019-12-19', '2020-01-19')], axis = 1)\n",
    "month_1.to_csv(\"First_Month_Att.csv\")"
   ]
  },
  {
   "attachments": {},
   "cell_type": "markdown",
   "metadata": {},
   "source": [
    "**SECOND MONTH ATTENDANCE**"
   ]
  },
  {
   "cell_type": "code",
   "execution_count": 46,
   "metadata": {},
   "outputs": [],
   "source": [
    "month_2 = pd.concat([df, te_students_attendance13(64, '2020-01-20', '2020-02-20')], axis = 1)\n",
    "month_2.to_csv(\"Second_Month_Att.csv\")"
   ]
  },
  {
   "cell_type": "code",
   "execution_count": null,
   "metadata": {},
   "outputs": [],
   "source": []
  }
 ],
 "metadata": {
  "kernelspec": {
   "display_name": "Python 3",
   "language": "python",
   "name": "python3"
  },
  "language_info": {
   "codemirror_mode": {
    "name": "ipython",
    "version": 3
   },
   "file_extension": ".py",
   "mimetype": "text/x-python",
   "name": "python",
   "nbconvert_exporter": "python",
   "pygments_lexer": "ipython3",
   "version": "3.10.0"
  },
  "orig_nbformat": 4
 },
 "nbformat": 4,
 "nbformat_minor": 2
}
