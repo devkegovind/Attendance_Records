{
 "cells": [
  {
   "cell_type": "code",
   "execution_count": 1,
   "metadata": {},
   "outputs": [],
   "source": [
    "import pandas as pd\n",
    "import numpy as np"
   ]
  },
  {
   "cell_type": "code",
   "execution_count": 2,
   "metadata": {},
   "outputs": [],
   "source": [
    "df = pd.read_excel(\"D:\\\\Downloads\\\\te-3_19_20.xlsx\")"
   ]
  },
  {
   "cell_type": "code",
   "execution_count": 3,
   "metadata": {},
   "outputs": [],
   "source": [
    "df['Name of Students'] = [i.title() for i in df['Name of Students']]"
   ]
  },
  {
   "cell_type": "code",
   "execution_count": 4,
   "metadata": {},
   "outputs": [
    {
     "data": {
      "text/html": [
       "<div>\n",
       "<style scoped>\n",
       "    .dataframe tbody tr th:only-of-type {\n",
       "        vertical-align: middle;\n",
       "    }\n",
       "\n",
       "    .dataframe tbody tr th {\n",
       "        vertical-align: top;\n",
       "    }\n",
       "\n",
       "    .dataframe thead th {\n",
       "        text-align: right;\n",
       "    }\n",
       "</style>\n",
       "<table border=\"1\" class=\"dataframe\">\n",
       "  <thead>\n",
       "    <tr style=\"text-align: right;\">\n",
       "      <th></th>\n",
       "      <th>Roll No</th>\n",
       "      <th>Name of Students</th>\n",
       "    </tr>\n",
       "  </thead>\n",
       "  <tbody>\n",
       "    <tr>\n",
       "      <th>0</th>\n",
       "      <td>3301</td>\n",
       "      <td>Adane Rrishikesh Somnath</td>\n",
       "    </tr>\n",
       "    <tr>\n",
       "      <th>1</th>\n",
       "      <td>3302</td>\n",
       "      <td>Andhale Nishant Rajaram</td>\n",
       "    </tr>\n",
       "    <tr>\n",
       "      <th>2</th>\n",
       "      <td>3303</td>\n",
       "      <td>Ansari Nabeel Riyaz</td>\n",
       "    </tr>\n",
       "    <tr>\n",
       "      <th>3</th>\n",
       "      <td>3304</td>\n",
       "      <td>Bhargude Prasad Raghunath</td>\n",
       "    </tr>\n",
       "    <tr>\n",
       "      <th>4</th>\n",
       "      <td>3305</td>\n",
       "      <td>Bhimnath Sidharth Narhari</td>\n",
       "    </tr>\n",
       "  </tbody>\n",
       "</table>\n",
       "</div>"
      ],
      "text/plain": [
       "   Roll No           Name of Students\n",
       "0     3301   Adane Rrishikesh Somnath\n",
       "1     3302    Andhale Nishant Rajaram\n",
       "2     3303        Ansari Nabeel Riyaz\n",
       "3     3304  Bhargude Prasad Raghunath\n",
       "4     3305  Bhimnath Sidharth Narhari"
      ]
     },
     "execution_count": 4,
     "metadata": {},
     "output_type": "execute_result"
    }
   ],
   "source": [
    "df.head()"
   ]
  },
  {
   "attachments": {},
   "cell_type": "markdown",
   "metadata": {},
   "source": [
    "**BATCH A PRACTICAL ATTENDANCE**"
   ]
  },
  {
   "cell_type": "code",
   "execution_count": 5,
   "metadata": {},
   "outputs": [],
   "source": [
    "import random\n",
    "import pandas as pd\n",
    "import numpy as np\n",
    "import datetime\n",
    "from pandas.tseries.holiday import USFederalHolidayCalendar\n",
    "from pandas.tseries.offsets import CustomBusinessDay\n",
    "import pandas as pd\n",
    "import holidays\n",
    "\n",
    "def lab_students_att_a(n, start_year, start_date, end_date):\n",
    "    \n",
    "    students = range(n)\n",
    "    \n",
    "    # Set the start and end dates\n",
    "    start_date = pd.Timestamp(start_date)\n",
    "    end_date = pd.Timestamp(end_date)\n",
    "\n",
    "    # Get the Indian holidays for 2021\n",
    "    indian_holidays = holidays.IND(years=[start_year, start_year+1])\n",
    "\n",
    "    custom_business_day = CustomBusinessDay(weekmask='Thu', holidays=indian_holidays)\n",
    "\n",
    "    # Generate a range of dates between the start and end dates\n",
    "    date_range = pd.date_range(start=start_date, end=end_date, freq=custom_business_day).strftime(\"%Y-%m-%d\")\n",
    "       \n",
    "    practical_attendance = {}\n",
    "\n",
    "    for student in students:        \n",
    "        \n",
    "        practical_attendance[student] = []        \n",
    "                \n",
    "        for day in date_range:\n",
    "            practical_attendance[student].append('P' if random.random() < 0.9 else 'A')\n",
    "            \n",
    "               \n",
    "    df31 = pd.DataFrame.from_dict(practical_attendance, orient='index', columns=date_range)\n",
    "        \n",
    "    df31['Present'] = df31.apply(lambda x: x[x == 'P'].count(), axis=1)\n",
    "    df31['Absent'] = df31.apply(lambda x: x[x == 'A'].count(), axis=1)\n",
    "    df31['%Att'] = round(df31['Present'] /len(date_range) * 100,1)\n",
    "    df31['MARKS1'] = [random.randint(6,10) for i in range(0,n)]\n",
    "\n",
    "    for i, date in enumerate(date_range):\n",
    "        df31[f'MARKS{i+1}'] = np.random.choice(df31['MARKS1'], size=n)\n",
    "\n",
    "    df = df31\n",
    "\n",
    "    return df"
   ]
  },
  {
   "cell_type": "code",
   "execution_count": 6,
   "metadata": {},
   "outputs": [],
   "source": [
    "d_a = pd.concat([df[:20], lab_students_att_a(20,2019, '2019-12-16', '2020-03-30')], axis = 1)\n",
    "d_a = d_a.set_index(\"Roll No\")\n",
    "d_a.to_excel(\"D:\\\\Downloads\\\\New folder\\\\2019-20\\\\SEM_II\\\\BATCH_A1.xlsx\")\n",
    "d_a.to_csv(\"BATCH_A1.csv\")"
   ]
  },
  {
   "attachments": {},
   "cell_type": "markdown",
   "metadata": {},
   "source": [
    "**BATCH B PRACTICAL ATTENDANCE**"
   ]
  },
  {
   "cell_type": "code",
   "execution_count": 8,
   "metadata": {},
   "outputs": [],
   "source": [
    "import random\n",
    "import pandas as pd\n",
    "import numpy as np\n",
    "import datetime\n",
    "from pandas.tseries.holiday import USFederalHolidayCalendar\n",
    "from pandas.tseries.offsets import CustomBusinessDay\n",
    "import pandas as pd\n",
    "import holidays\n",
    "\n",
    "def lab_students_att_b(n, start_year, start_date, end_date):\n",
    "    \n",
    "    students = range(20,41)\n",
    "    \n",
    "    # Set the start and end dates\n",
    "    start_date = pd.Timestamp(start_date)\n",
    "    end_date = pd.Timestamp(end_date)\n",
    "\n",
    "    # Get the Indian holidays for 2021\n",
    "    indian_holidays = holidays.IND(years=[start_year, start_year+1])\n",
    "\n",
    "    custom_business_day = CustomBusinessDay(weekmask='Tue', holidays=indian_holidays)\n",
    "\n",
    "    # Generate a range of dates between the start and end dates\n",
    "    date_range = pd.date_range(start=start_date, end=end_date, freq=custom_business_day).strftime(\"%Y-%m-%d\")\n",
    "       \n",
    "    practical_attendance = {}\n",
    "\n",
    "    for student in students:        \n",
    "        \n",
    "        practical_attendance[student] = []        \n",
    "                \n",
    "        for day in date_range:\n",
    "            practical_attendance[student].append('P' if random.random() < 0.9 else 'A')\n",
    "            \n",
    "               \n",
    "    df31 = pd.DataFrame.from_dict(practical_attendance, orient='index', columns=date_range)\n",
    "        \n",
    "    df31['Present'] = df31.apply(lambda x: x[x == 'P'].count(), axis=1)\n",
    "    df31['Absent'] = df31.apply(lambda x: x[x == 'A'].count(), axis=1)\n",
    "    df31['%Att'] = round(df31['Present'] /len(date_range) * 100,1)\n",
    "    df31['MARKS1'] = [random.randint(6,10) for i in range(0,n)]\n",
    "\n",
    "    for i, date in enumerate(date_range):\n",
    "        df31[f'MARKS{i+1}'] = np.random.choice(df31['MARKS1'], size=n)\n",
    "\n",
    "    df = df31\n",
    "\n",
    "    return df"
   ]
  },
  {
   "cell_type": "code",
   "execution_count": 9,
   "metadata": {},
   "outputs": [],
   "source": [
    "d_b = pd.concat([df[20:41], lab_students_att_b(21,2019, '2019-12-16', '2020-03-30')], axis = 1)\n",
    "d_b = d_b.set_index(\"Roll No\")\n",
    "d_b.to_excel(\"D:\\\\Downloads\\\\New folder\\\\2019-20\\\\SEM_II\\\\BATCH_B1.xlsx\")\n",
    "d_b.to_csv(\"BATCH_B1.csv\")"
   ]
  }
 ],
 "metadata": {
  "kernelspec": {
   "display_name": "Python 3",
   "language": "python",
   "name": "python3"
  },
  "language_info": {
   "codemirror_mode": {
    "name": "ipython",
    "version": 3
   },
   "file_extension": ".py",
   "mimetype": "text/x-python",
   "name": "python",
   "nbconvert_exporter": "python",
   "pygments_lexer": "ipython3",
   "version": "3.10.0"
  },
  "orig_nbformat": 4
 },
 "nbformat": 4,
 "nbformat_minor": 2
}
