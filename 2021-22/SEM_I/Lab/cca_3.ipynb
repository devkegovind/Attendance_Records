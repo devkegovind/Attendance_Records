{
 "cells": [
  {
   "cell_type": "code",
   "execution_count": 1,
   "metadata": {},
   "outputs": [],
   "source": [
    "import numpy as np\n",
    "import pandas as pd"
   ]
  },
  {
   "cell_type": "code",
   "execution_count": 2,
   "metadata": {},
   "outputs": [
    {
     "data": {
      "text/html": [
       "<div>\n",
       "<style scoped>\n",
       "    .dataframe tbody tr th:only-of-type {\n",
       "        vertical-align: middle;\n",
       "    }\n",
       "\n",
       "    .dataframe tbody tr th {\n",
       "        vertical-align: top;\n",
       "    }\n",
       "\n",
       "    .dataframe thead th {\n",
       "        text-align: right;\n",
       "    }\n",
       "</style>\n",
       "<table border=\"1\" class=\"dataframe\">\n",
       "  <thead>\n",
       "    <tr style=\"text-align: right;\">\n",
       "      <th></th>\n",
       "      <th>Roll No</th>\n",
       "      <th>Name of Student</th>\n",
       "    </tr>\n",
       "  </thead>\n",
       "  <tbody>\n",
       "    <tr>\n",
       "      <th>0</th>\n",
       "      <td>4301</td>\n",
       "      <td>LIMAN ABHIJEET SHIVAJI</td>\n",
       "    </tr>\n",
       "    <tr>\n",
       "      <th>1</th>\n",
       "      <td>4302</td>\n",
       "      <td>ADLINGE AKSHAY HANAMANT</td>\n",
       "    </tr>\n",
       "    <tr>\n",
       "      <th>2</th>\n",
       "      <td>4303</td>\n",
       "      <td>AWASARE ROHAN KRISHNA</td>\n",
       "    </tr>\n",
       "    <tr>\n",
       "      <th>3</th>\n",
       "      <td>4304</td>\n",
       "      <td>BACHAL SHUBHAM VISHAL</td>\n",
       "    </tr>\n",
       "    <tr>\n",
       "      <th>4</th>\n",
       "      <td>4305</td>\n",
       "      <td>BAGUL AKASH JAGAN</td>\n",
       "    </tr>\n",
       "  </tbody>\n",
       "</table>\n",
       "</div>"
      ],
      "text/plain": [
       "   Roll No          Name of Student\n",
       "0     4301   LIMAN ABHIJEET SHIVAJI\n",
       "1     4302  ADLINGE AKSHAY HANAMANT\n",
       "2     4303    AWASARE ROHAN KRISHNA\n",
       "3     4304    BACHAL SHUBHAM VISHAL\n",
       "4     4305        BAGUL AKASH JAGAN"
      ]
     },
     "execution_count": 2,
     "metadata": {},
     "output_type": "execute_result"
    }
   ],
   "source": [
    "df = pd.read_excel(\"D:\\\\Downloads\\\\New folder\\\\2021-22\\\\BE_III.xlsx\")\n",
    "df.head()"
   ]
  },
  {
   "cell_type": "code",
   "execution_count": 3,
   "metadata": {},
   "outputs": [],
   "source": [
    "df['Name of Student'] = [i.title() for i in df['Name of Student']]"
   ]
  },
  {
   "cell_type": "code",
   "execution_count": 4,
   "metadata": {},
   "outputs": [
    {
     "data": {
      "text/html": [
       "<div>\n",
       "<style scoped>\n",
       "    .dataframe tbody tr th:only-of-type {\n",
       "        vertical-align: middle;\n",
       "    }\n",
       "\n",
       "    .dataframe tbody tr th {\n",
       "        vertical-align: top;\n",
       "    }\n",
       "\n",
       "    .dataframe thead th {\n",
       "        text-align: right;\n",
       "    }\n",
       "</style>\n",
       "<table border=\"1\" class=\"dataframe\">\n",
       "  <thead>\n",
       "    <tr style=\"text-align: right;\">\n",
       "      <th></th>\n",
       "      <th>Roll No</th>\n",
       "      <th>Name of Student</th>\n",
       "    </tr>\n",
       "  </thead>\n",
       "  <tbody>\n",
       "    <tr>\n",
       "      <th>0</th>\n",
       "      <td>4301</td>\n",
       "      <td>Liman Abhijeet Shivaji</td>\n",
       "    </tr>\n",
       "    <tr>\n",
       "      <th>1</th>\n",
       "      <td>4302</td>\n",
       "      <td>Adlinge Akshay Hanamant</td>\n",
       "    </tr>\n",
       "    <tr>\n",
       "      <th>2</th>\n",
       "      <td>4303</td>\n",
       "      <td>Awasare Rohan Krishna</td>\n",
       "    </tr>\n",
       "    <tr>\n",
       "      <th>3</th>\n",
       "      <td>4304</td>\n",
       "      <td>Bachal Shubham Vishal</td>\n",
       "    </tr>\n",
       "    <tr>\n",
       "      <th>4</th>\n",
       "      <td>4305</td>\n",
       "      <td>Bagul Akash Jagan</td>\n",
       "    </tr>\n",
       "  </tbody>\n",
       "</table>\n",
       "</div>"
      ],
      "text/plain": [
       "   Roll No          Name of Student\n",
       "0     4301   Liman Abhijeet Shivaji\n",
       "1     4302  Adlinge Akshay Hanamant\n",
       "2     4303    Awasare Rohan Krishna\n",
       "3     4304    Bachal Shubham Vishal\n",
       "4     4305        Bagul Akash Jagan"
      ]
     },
     "execution_count": 4,
     "metadata": {},
     "output_type": "execute_result"
    }
   ],
   "source": [
    "df.head()"
   ]
  },
  {
   "cell_type": "code",
   "execution_count": null,
   "metadata": {},
   "outputs": [],
   "source": [
    "df.to_csv(\"BE-3.csv\")"
   ]
  },
  {
   "attachments": {},
   "cell_type": "markdown",
   "metadata": {},
   "source": [
    "**BATCH A PRACTICAL ATTENDANCE**"
   ]
  },
  {
   "cell_type": "code",
   "execution_count": 7,
   "metadata": {},
   "outputs": [],
   "source": [
    "import random\n",
    "import pandas as pd\n",
    "import numpy as np\n",
    "import datetime\n",
    "from pandas.tseries.holiday import USFederalHolidayCalendar\n",
    "from pandas.tseries.offsets import CustomBusinessDay\n",
    "import pandas as pd\n",
    "import holidays\n",
    "\n",
    "def lab_students_att_a(n, start_year, start_date, end_date):\n",
    "    \n",
    "    students = range(0,20)\n",
    "    \n",
    "    # Set the start and end dates\n",
    "    start_date = pd.Timestamp(start_date)\n",
    "    end_date = pd.Timestamp(end_date)\n",
    "\n",
    "    # Get the Indian holidays for 2021\n",
    "    indian_holidays = holidays.IND(years=[start_year, start_year+0])\n",
    "\n",
    "    custom_business_day = CustomBusinessDay(weekmask='Tue', holidays=indian_holidays)\n",
    "\n",
    "    # Generate a range of dates between the start and end dates\n",
    "    date_range = pd.date_range(start=start_date, end=end_date, freq=custom_business_day).strftime(\"%Y-%m-%d\")\n",
    "       \n",
    "    practical_attendance = {}\n",
    "\n",
    "    for student in students:        \n",
    "        \n",
    "        practical_attendance[student] = []        \n",
    "                \n",
    "        for day in date_range:\n",
    "            practical_attendance[student].append('P' if random.random() < 0.9 else 'A')\n",
    "            \n",
    "               \n",
    "    df31 = pd.DataFrame.from_dict(practical_attendance, orient='index', columns=date_range)\n",
    "        \n",
    "    df31['Present'] = df31.apply(lambda x: x[x == 'P'].count(), axis=1)\n",
    "    df31['Absent'] = df31.apply(lambda x: x[x == 'A'].count(), axis=1)\n",
    "    df31['%Att'] = round(df31['Present'] /len(date_range) * 100,1)\n",
    "    df31['MARKS1'] = [random.randint(6,10) for i in range(0,n)]\n",
    "\n",
    "    for i, date in enumerate(date_range):\n",
    "        df31[f'MARKS{i+1}'] = np.random.choice(df31['MARKS1'], size=n)\n",
    "\n",
    "    df = df31\n",
    "\n",
    "    return df"
   ]
  },
  {
   "cell_type": "code",
   "execution_count": 8,
   "metadata": {},
   "outputs": [],
   "source": [
    "d1 = pd.concat([df[:20], lab_students_att_a(20, 2021, '2021-06-21', '2021-11-30')],axis=1)\n",
    "d1 = d1.set_index(\"Roll No\")\n",
    "d1.to_excel(\"D:\\\\Downloads\\\\New folder\\\\2021-22\\\\SEM_I\\\\BATCH_3A.xlsx\")\n",
    "d1.to_csv(\"BATCH_3A_.csv\")"
   ]
  },
  {
   "attachments": {},
   "cell_type": "markdown",
   "metadata": {},
   "source": [
    "**BATCH B PRACTICAL ATTENDANCE**"
   ]
  },
  {
   "cell_type": "code",
   "execution_count": 10,
   "metadata": {},
   "outputs": [],
   "source": [
    "import random\n",
    "import pandas as pd\n",
    "import numpy as np\n",
    "import datetime\n",
    "from pandas.tseries.holiday import USFederalHolidayCalendar\n",
    "from pandas.tseries.offsets import CustomBusinessDay\n",
    "import pandas as pd\n",
    "import holidays\n",
    "\n",
    "def lab_students_att_b(n, start_year, start_date, end_date):\n",
    "    \n",
    "    students = range(20, 40)\n",
    "    \n",
    "    # Set the start and end dates\n",
    "    start_date = pd.Timestamp(start_date)\n",
    "    end_date = pd.Timestamp(end_date)\n",
    "\n",
    "    # Get the Indian holidays for 2021\n",
    "    indian_holidays = holidays.IND(years=[start_year, start_year+0])\n",
    "\n",
    "    custom_business_day = CustomBusinessDay(weekmask='Mon', holidays=indian_holidays)\n",
    "\n",
    "    # Generate a range of dates between the start and end dates\n",
    "    date_range = pd.date_range(start=start_date, end=end_date, freq=custom_business_day).strftime(\"%Y-%m-%d\")\n",
    "       \n",
    "    practical_attendance = {}\n",
    "\n",
    "    for student in students:        \n",
    "        \n",
    "        practical_attendance[student] = []        \n",
    "                \n",
    "        for day in date_range:\n",
    "            practical_attendance[student].append('P' if random.random() < 0.9 else 'A')\n",
    "            \n",
    "               \n",
    "    df31 = pd.DataFrame.from_dict(practical_attendance, orient='index', columns=date_range)\n",
    "        \n",
    "    df31['Present'] = df31.apply(lambda x: x[x == 'P'].count(), axis=1)\n",
    "    df31['Absent'] = df31.apply(lambda x: x[x == 'A'].count(), axis=1)\n",
    "    df31['%Att'] = round(df31['Present'] /len(date_range) * 100,1)\n",
    "    df31['MARKS1'] = [random.randint(6,10) for i in range(0,n)]\n",
    "\n",
    "    for i, date in enumerate(date_range):\n",
    "        df31[f'MARKS{i+1}'] = np.random.choice(df31['MARKS1'], size=n)\n",
    "\n",
    "    df = df31\n",
    "\n",
    "    return df"
   ]
  },
  {
   "cell_type": "code",
   "execution_count": 13,
   "metadata": {},
   "outputs": [],
   "source": [
    "d2 = pd.concat([df[20:40], lab_students_att_b(20, 2021, '2021-06-21', '2021-11-30')],axis=1)\n",
    "d2 = d2.set_index(\"Roll No\")\n",
    "d2.to_excel(\"D:\\\\Downloads\\\\New folder\\\\2021-22\\\\SEM_I\\\\BATCH_3B.xlsx\")\n",
    "d2.to_csv(\"BATCH_3B_.csv\")"
   ]
  },
  {
   "attachments": {},
   "cell_type": "markdown",
   "metadata": {},
   "source": [
    "**BATCH C PRACTICAL ATTENDANCE**"
   ]
  },
  {
   "cell_type": "code",
   "execution_count": 14,
   "metadata": {},
   "outputs": [],
   "source": [
    "import random\n",
    "import pandas as pd\n",
    "import numpy as np\n",
    "import datetime\n",
    "from pandas.tseries.holiday import USFederalHolidayCalendar\n",
    "from pandas.tseries.offsets import CustomBusinessDay\n",
    "import pandas as pd\n",
    "import holidays\n",
    "\n",
    "def lab_students_att_c(n, start_year, start_date, end_date):\n",
    "    \n",
    "    students = range(40, 60)\n",
    "    \n",
    "    # Set the start and end dates\n",
    "    start_date = pd.Timestamp(start_date)\n",
    "    end_date = pd.Timestamp(end_date)\n",
    "\n",
    "    # Get the Indian holidays for 2021\n",
    "    indian_holidays = holidays.IND(years=[start_year, start_year+0])\n",
    "\n",
    "    custom_business_day = CustomBusinessDay(weekmask='Thu', holidays=indian_holidays)\n",
    "\n",
    "    # Generate a range of dates between the start and end dates\n",
    "    date_range = pd.date_range(start=start_date, end=end_date, freq=custom_business_day).strftime(\"%Y-%m-%d\")\n",
    "       \n",
    "    practical_attendance = {}\n",
    "\n",
    "    for student in students:        \n",
    "        \n",
    "        practical_attendance[student] = []        \n",
    "                \n",
    "        for day in date_range:\n",
    "            practical_attendance[student].append('P' if random.random() < 0.9 else 'A')\n",
    "            \n",
    "               \n",
    "    df31 = pd.DataFrame.from_dict(practical_attendance, orient='index', columns=date_range)\n",
    "        \n",
    "    df31['Present'] = df31.apply(lambda x: x[x == 'P'].count(), axis=1)\n",
    "    df31['Absent'] = df31.apply(lambda x: x[x == 'A'].count(), axis=1)\n",
    "    df31['%Att'] = round(df31['Present'] /len(date_range) * 100,1)\n",
    "    df31['MARKS1'] = [random.randint(6,10) for i in range(0,n)]\n",
    "\n",
    "    for i, date in enumerate(date_range):\n",
    "        df31[f'MARKS{i+1}'] = np.random.choice(df31['MARKS1'], size=n)\n",
    "\n",
    "    df = df31\n",
    "\n",
    "    return df"
   ]
  },
  {
   "cell_type": "code",
   "execution_count": 18,
   "metadata": {},
   "outputs": [],
   "source": [
    "d3 = pd.concat([df[40:60], lab_students_att_c(20, 2021, '2021-06-21', '2021-11-30')],axis=1)\n",
    "d3 = d3.set_index(\"Roll No\")\n",
    "d3.to_excel(\"D:\\\\Downloads\\\\New folder\\\\2021-22\\\\SEM_I\\\\BATCH_3C.xlsx\")\n",
    "d3.to_csv(\"BATCH_3C_.csv\")"
   ]
  },
  {
   "attachments": {},
   "cell_type": "markdown",
   "metadata": {},
   "source": [
    "**BATCH D PRACTICAL ATTENDANCE**"
   ]
  },
  {
   "cell_type": "code",
   "execution_count": 16,
   "metadata": {},
   "outputs": [
    {
     "data": {
      "text/plain": [
       "(82, 2)"
      ]
     },
     "execution_count": 16,
     "metadata": {},
     "output_type": "execute_result"
    }
   ],
   "source": [
    "df.shape"
   ]
  },
  {
   "cell_type": "code",
   "execution_count": 17,
   "metadata": {},
   "outputs": [],
   "source": [
    "import random\n",
    "import pandas as pd\n",
    "import numpy as np\n",
    "import datetime\n",
    "from pandas.tseries.holiday import USFederalHolidayCalendar\n",
    "from pandas.tseries.offsets import CustomBusinessDay\n",
    "import pandas as pd\n",
    "import holidays\n",
    "\n",
    "def lab_students_att_d(n, start_year, start_date, end_date):\n",
    "    \n",
    "    students = range(60, 82)\n",
    "    \n",
    "    # Set the start and end dates\n",
    "    start_date = pd.Timestamp(start_date)\n",
    "    end_date = pd.Timestamp(end_date)\n",
    "\n",
    "    # Get the Indian holidays for 2021\n",
    "    indian_holidays = holidays.IND(years=[start_year, start_year+0])\n",
    "\n",
    "    custom_business_day = CustomBusinessDay(weekmask='Wed', holidays=indian_holidays)\n",
    "\n",
    "    # Generate a range of dates between the start and end dates\n",
    "    date_range = pd.date_range(start=start_date, end=end_date, freq=custom_business_day).strftime(\"%Y-%m-%d\")\n",
    "       \n",
    "    practical_attendance = {}\n",
    "\n",
    "    for student in students:        \n",
    "        \n",
    "        practical_attendance[student] = []        \n",
    "                \n",
    "        for day in date_range:\n",
    "            practical_attendance[student].append('P' if random.random() < 0.9 else 'A')\n",
    "            \n",
    "               \n",
    "    df31 = pd.DataFrame.from_dict(practical_attendance, orient='index', columns=date_range)\n",
    "        \n",
    "    df31['Present'] = df31.apply(lambda x: x[x == 'P'].count(), axis=1)\n",
    "    df31['Absent'] = df31.apply(lambda x: x[x == 'A'].count(), axis=1)\n",
    "    df31['%Att'] = round(df31['Present'] /len(date_range) * 100,1)\n",
    "    df31['MARKS1'] = [random.randint(6,10) for i in range(0,n)]\n",
    "\n",
    "    for i, date in enumerate(date_range):\n",
    "        df31[f'MARKS{i+1}'] = np.random.choice(df31['MARKS1'], size=n)\n",
    "\n",
    "    df = df31\n",
    "\n",
    "    return df"
   ]
  },
  {
   "cell_type": "code",
   "execution_count": 19,
   "metadata": {},
   "outputs": [],
   "source": [
    "d4 = pd.concat([df[60:82], lab_students_att_d(22, 2021, '2021-06-21', '2021-11-30')],axis=1)\n",
    "d4 = d4.set_index(\"Roll No\")\n",
    "d4.to_excel(\"D:\\\\Downloads\\\\New folder\\\\2021-22\\\\SEM_I\\\\BATCH_3D.xlsx\")\n",
    "d4.to_csv(\"BATCH_3D_.csv\")"
   ]
  }
 ],
 "metadata": {
  "kernelspec": {
   "display_name": "Python 3",
   "language": "python",
   "name": "python3"
  },
  "language_info": {
   "codemirror_mode": {
    "name": "ipython",
    "version": 3
   },
   "file_extension": ".py",
   "mimetype": "text/x-python",
   "name": "python",
   "nbconvert_exporter": "python",
   "pygments_lexer": "ipython3",
   "version": "3.10.0"
  },
  "orig_nbformat": 4
 },
 "nbformat": 4,
 "nbformat_minor": 2
}
