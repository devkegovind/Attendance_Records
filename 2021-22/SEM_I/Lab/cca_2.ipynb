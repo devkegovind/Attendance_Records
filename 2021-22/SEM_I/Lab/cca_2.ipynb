{
 "cells": [
  {
   "cell_type": "code",
   "execution_count": 1,
   "metadata": {},
   "outputs": [],
   "source": [
    "import numpy as np\n",
    "import pandas as pd"
   ]
  },
  {
   "cell_type": "code",
   "execution_count": 2,
   "metadata": {},
   "outputs": [
    {
     "data": {
      "text/html": [
       "<div>\n",
       "<style scoped>\n",
       "    .dataframe tbody tr th:only-of-type {\n",
       "        vertical-align: middle;\n",
       "    }\n",
       "\n",
       "    .dataframe tbody tr th {\n",
       "        vertical-align: top;\n",
       "    }\n",
       "\n",
       "    .dataframe thead th {\n",
       "        text-align: right;\n",
       "    }\n",
       "</style>\n",
       "<table border=\"1\" class=\"dataframe\">\n",
       "  <thead>\n",
       "    <tr style=\"text-align: right;\">\n",
       "      <th></th>\n",
       "      <th>Roll No</th>\n",
       "      <th>Name of Student</th>\n",
       "    </tr>\n",
       "  </thead>\n",
       "  <tbody>\n",
       "    <tr>\n",
       "      <th>0</th>\n",
       "      <td>4201</td>\n",
       "      <td>AMBAD RUSHIKESH SUBHASH</td>\n",
       "    </tr>\n",
       "    <tr>\n",
       "      <th>1</th>\n",
       "      <td>4202</td>\n",
       "      <td>PHAPALE AMOL GULAB</td>\n",
       "    </tr>\n",
       "    <tr>\n",
       "      <th>2</th>\n",
       "      <td>4203</td>\n",
       "      <td>ANGRE SOHAM HARISHCHANDRA</td>\n",
       "    </tr>\n",
       "    <tr>\n",
       "      <th>3</th>\n",
       "      <td>4204</td>\n",
       "      <td>ATTARDE SANKET DAGADU</td>\n",
       "    </tr>\n",
       "    <tr>\n",
       "      <th>4</th>\n",
       "      <td>4205</td>\n",
       "      <td>BANSODE PRATIK SANJAY</td>\n",
       "    </tr>\n",
       "  </tbody>\n",
       "</table>\n",
       "</div>"
      ],
      "text/plain": [
       "   Roll No            Name of Student\n",
       "0     4201    AMBAD RUSHIKESH SUBHASH\n",
       "1     4202         PHAPALE AMOL GULAB\n",
       "2     4203  ANGRE SOHAM HARISHCHANDRA\n",
       "3     4204      ATTARDE SANKET DAGADU\n",
       "4     4205      BANSODE PRATIK SANJAY"
      ]
     },
     "execution_count": 2,
     "metadata": {},
     "output_type": "execute_result"
    }
   ],
   "source": [
    "df = pd.read_excel(\"D:\\\\Downloads\\\\New folder\\\\2021-22\\\\BE_II.xlsx\")\n",
    "df.head()"
   ]
  },
  {
   "cell_type": "code",
   "execution_count": 3,
   "metadata": {},
   "outputs": [],
   "source": [
    "df['Name of Student'] = [i.title() for i in df['Name of Student']]"
   ]
  },
  {
   "cell_type": "code",
   "execution_count": 4,
   "metadata": {},
   "outputs": [
    {
     "data": {
      "text/html": [
       "<div>\n",
       "<style scoped>\n",
       "    .dataframe tbody tr th:only-of-type {\n",
       "        vertical-align: middle;\n",
       "    }\n",
       "\n",
       "    .dataframe tbody tr th {\n",
       "        vertical-align: top;\n",
       "    }\n",
       "\n",
       "    .dataframe thead th {\n",
       "        text-align: right;\n",
       "    }\n",
       "</style>\n",
       "<table border=\"1\" class=\"dataframe\">\n",
       "  <thead>\n",
       "    <tr style=\"text-align: right;\">\n",
       "      <th></th>\n",
       "      <th>Roll No</th>\n",
       "      <th>Name of Student</th>\n",
       "    </tr>\n",
       "  </thead>\n",
       "  <tbody>\n",
       "    <tr>\n",
       "      <th>0</th>\n",
       "      <td>4201</td>\n",
       "      <td>Ambad Rushikesh Subhash</td>\n",
       "    </tr>\n",
       "    <tr>\n",
       "      <th>1</th>\n",
       "      <td>4202</td>\n",
       "      <td>Phapale Amol Gulab</td>\n",
       "    </tr>\n",
       "    <tr>\n",
       "      <th>2</th>\n",
       "      <td>4203</td>\n",
       "      <td>Angre Soham Harishchandra</td>\n",
       "    </tr>\n",
       "    <tr>\n",
       "      <th>3</th>\n",
       "      <td>4204</td>\n",
       "      <td>Attarde Sanket Dagadu</td>\n",
       "    </tr>\n",
       "    <tr>\n",
       "      <th>4</th>\n",
       "      <td>4205</td>\n",
       "      <td>Bansode Pratik Sanjay</td>\n",
       "    </tr>\n",
       "  </tbody>\n",
       "</table>\n",
       "</div>"
      ],
      "text/plain": [
       "   Roll No            Name of Student\n",
       "0     4201    Ambad Rushikesh Subhash\n",
       "1     4202         Phapale Amol Gulab\n",
       "2     4203  Angre Soham Harishchandra\n",
       "3     4204      Attarde Sanket Dagadu\n",
       "4     4205      Bansode Pratik Sanjay"
      ]
     },
     "execution_count": 4,
     "metadata": {},
     "output_type": "execute_result"
    }
   ],
   "source": [
    "df.head()"
   ]
  },
  {
   "cell_type": "code",
   "execution_count": null,
   "metadata": {},
   "outputs": [],
   "source": [
    "df.to_csv(\"BE-2.csv\")"
   ]
  },
  {
   "attachments": {},
   "cell_type": "markdown",
   "metadata": {},
   "source": [
    "**BATCH A PRACTICAL ATTENDANCE**"
   ]
  },
  {
   "cell_type": "code",
   "execution_count": 5,
   "metadata": {},
   "outputs": [],
   "source": [
    "import random\n",
    "import pandas as pd\n",
    "import numpy as np\n",
    "import datetime\n",
    "from pandas.tseries.holiday import USFederalHolidayCalendar\n",
    "from pandas.tseries.offsets import CustomBusinessDay\n",
    "import pandas as pd\n",
    "import holidays\n",
    "\n",
    "def lab_students_att_a(n, start_year, start_date, end_date):\n",
    "    \n",
    "    students = range(0,20)\n",
    "    \n",
    "    # Set the start and end dates\n",
    "    start_date = pd.Timestamp(start_date)\n",
    "    end_date = pd.Timestamp(end_date)\n",
    "\n",
    "    # Get the Indian holidays for 2021\n",
    "    indian_holidays = holidays.IND(years=[start_year, start_year+0])\n",
    "\n",
    "    custom_business_day = CustomBusinessDay(weekmask='Tue', holidays=indian_holidays)\n",
    "\n",
    "    # Generate a range of dates between the start and end dates\n",
    "    date_range = pd.date_range(start=start_date, end=end_date, freq=custom_business_day).strftime(\"%Y-%m-%d\")\n",
    "       \n",
    "    practical_attendance = {}\n",
    "\n",
    "    for student in students:        \n",
    "        \n",
    "        practical_attendance[student] = []        \n",
    "                \n",
    "        for day in date_range:\n",
    "            practical_attendance[student].append('P' if random.random() < 0.9 else 'A')\n",
    "            \n",
    "               \n",
    "    df31 = pd.DataFrame.from_dict(practical_attendance, orient='index', columns=date_range)\n",
    "        \n",
    "    df31['Present'] = df31.apply(lambda x: x[x == 'P'].count(), axis=1)\n",
    "    df31['Absent'] = df31.apply(lambda x: x[x == 'A'].count(), axis=1)\n",
    "    df31['%Att'] = round(df31['Present'] /len(date_range) * 100,1)\n",
    "    df31['MARKS1'] = [random.randint(6,10) for i in range(0,n)]\n",
    "\n",
    "    for i, date in enumerate(date_range):\n",
    "        df31[f'MARKS{i+1}'] = np.random.choice(df31['MARKS1'], size=n)\n",
    "\n",
    "    df = df31\n",
    "\n",
    "    return df"
   ]
  },
  {
   "cell_type": "code",
   "execution_count": 6,
   "metadata": {},
   "outputs": [],
   "source": [
    "d1 = pd.concat([df[:20], lab_students_att_a(20, 2021, '2021-06-21', '2021-11-30')],axis=1)\n",
    "d1 = d1.set_index(\"Roll No\")\n",
    "d1.to_excel(\"D:\\\\Downloads\\\\New folder\\\\2021-22\\\\SEM_I\\\\BATCH_2A.xlsx\")\n",
    "d1.to_csv(\"BATCH_2A_.csv\")"
   ]
  },
  {
   "attachments": {},
   "cell_type": "markdown",
   "metadata": {},
   "source": [
    "**BATCH B PRACTICAL ATTENDANCE**"
   ]
  },
  {
   "cell_type": "code",
   "execution_count": 7,
   "metadata": {},
   "outputs": [],
   "source": [
    "import random\n",
    "import pandas as pd\n",
    "import numpy as np\n",
    "import datetime\n",
    "from pandas.tseries.holiday import USFederalHolidayCalendar\n",
    "from pandas.tseries.offsets import CustomBusinessDay\n",
    "import pandas as pd\n",
    "import holidays\n",
    "\n",
    "def lab_students_att_b(n, start_year, start_date, end_date):\n",
    "    \n",
    "    students = range(20, 40)\n",
    "    \n",
    "    # Set the start and end dates\n",
    "    start_date = pd.Timestamp(start_date)\n",
    "    end_date = pd.Timestamp(end_date)\n",
    "\n",
    "    # Get the Indian holidays for 2021\n",
    "    indian_holidays = holidays.IND(years=[start_year, start_year+0])\n",
    "\n",
    "    custom_business_day = CustomBusinessDay(weekmask='Mon', holidays=indian_holidays)\n",
    "\n",
    "    # Generate a range of dates between the start and end dates\n",
    "    date_range = pd.date_range(start=start_date, end=end_date, freq=custom_business_day).strftime(\"%Y-%m-%d\")\n",
    "       \n",
    "    practical_attendance = {}\n",
    "\n",
    "    for student in students:        \n",
    "        \n",
    "        practical_attendance[student] = []        \n",
    "                \n",
    "        for day in date_range:\n",
    "            practical_attendance[student].append('P' if random.random() < 0.9 else 'A')\n",
    "            \n",
    "               \n",
    "    df31 = pd.DataFrame.from_dict(practical_attendance, orient='index', columns=date_range)\n",
    "        \n",
    "    df31['Present'] = df31.apply(lambda x: x[x == 'P'].count(), axis=1)\n",
    "    df31['Absent'] = df31.apply(lambda x: x[x == 'A'].count(), axis=1)\n",
    "    df31['%Att'] = round(df31['Present'] /len(date_range) * 100,1)\n",
    "    df31['MARKS1'] = [random.randint(6,10) for i in range(0,n)]\n",
    "\n",
    "    for i, date in enumerate(date_range):\n",
    "        df31[f'MARKS{i+1}'] = np.random.choice(df31['MARKS1'], size=n)\n",
    "\n",
    "    df = df31\n",
    "\n",
    "    return df"
   ]
  },
  {
   "cell_type": "code",
   "execution_count": 8,
   "metadata": {},
   "outputs": [],
   "source": [
    "d2 = pd.concat([df[20:40], lab_students_att_b(20, 2021, '2021-06-21', '2021-11-30')],axis=1)\n",
    "d2 = d2.set_index(\"Roll No\")\n",
    "d2.to_excel(\"D:\\\\Downloads\\\\New folder\\\\2021-22\\\\SEM_I\\\\BATCH_2B.xlsx\")\n",
    "d2.to_csv(\"BATCH_2B_.csv\")"
   ]
  },
  {
   "attachments": {},
   "cell_type": "markdown",
   "metadata": {},
   "source": [
    "**BATCH C PRACTICAL ATTENDANCE**"
   ]
  },
  {
   "cell_type": "code",
   "execution_count": 9,
   "metadata": {},
   "outputs": [],
   "source": [
    "import random\n",
    "import pandas as pd\n",
    "import numpy as np\n",
    "import datetime\n",
    "from pandas.tseries.holiday import USFederalHolidayCalendar\n",
    "from pandas.tseries.offsets import CustomBusinessDay\n",
    "import pandas as pd\n",
    "import holidays\n",
    "\n",
    "def lab_students_att_c(n, start_year, start_date, end_date):\n",
    "    \n",
    "    students = range(40, 60)\n",
    "    \n",
    "    # Set the start and end dates\n",
    "    start_date = pd.Timestamp(start_date)\n",
    "    end_date = pd.Timestamp(end_date)\n",
    "\n",
    "    # Get the Indian holidays for 2021\n",
    "    indian_holidays = holidays.IND(years=[start_year, start_year+0])\n",
    "\n",
    "    custom_business_day = CustomBusinessDay(weekmask='Thu', holidays=indian_holidays)\n",
    "\n",
    "    # Generate a range of dates between the start and end dates\n",
    "    date_range = pd.date_range(start=start_date, end=end_date, freq=custom_business_day).strftime(\"%Y-%m-%d\")\n",
    "       \n",
    "    practical_attendance = {}\n",
    "\n",
    "    for student in students:        \n",
    "        \n",
    "        practical_attendance[student] = []        \n",
    "                \n",
    "        for day in date_range:\n",
    "            practical_attendance[student].append('P' if random.random() < 0.9 else 'A')\n",
    "            \n",
    "               \n",
    "    df31 = pd.DataFrame.from_dict(practical_attendance, orient='index', columns=date_range)\n",
    "        \n",
    "    df31['Present'] = df31.apply(lambda x: x[x == 'P'].count(), axis=1)\n",
    "    df31['Absent'] = df31.apply(lambda x: x[x == 'A'].count(), axis=1)\n",
    "    df31['%Att'] = round(df31['Present'] /len(date_range) * 100,1)\n",
    "    df31['MARKS1'] = [random.randint(6,10) for i in range(0,n)]\n",
    "\n",
    "    for i, date in enumerate(date_range):\n",
    "        df31[f'MARKS{i+1}'] = np.random.choice(df31['MARKS1'], size=n)\n",
    "\n",
    "    df = df31\n",
    "\n",
    "    return df"
   ]
  },
  {
   "cell_type": "code",
   "execution_count": 10,
   "metadata": {},
   "outputs": [],
   "source": [
    "d3 = pd.concat([df[40:60], lab_students_att_c(20, 2021, '2021-06-21', '2021-11-30')],axis=1)\n",
    "d3 = d3.set_index(\"Roll No\")\n",
    "d3.to_excel(\"D:\\\\Downloads\\\\New folder\\\\2021-22\\\\SEM_I\\\\BATCH_2C.xlsx\")\n",
    "d3.to_csv(\"BATCH_2C_.csv\")"
   ]
  }
 ],
 "metadata": {
  "kernelspec": {
   "display_name": "Python 3",
   "language": "python",
   "name": "python3"
  },
  "language_info": {
   "codemirror_mode": {
    "name": "ipython",
    "version": 3
   },
   "file_extension": ".py",
   "mimetype": "text/x-python",
   "name": "python",
   "nbconvert_exporter": "python",
   "pygments_lexer": "ipython3",
   "version": "3.10.0"
  },
  "orig_nbformat": 4
 },
 "nbformat": 4,
 "nbformat_minor": 2
}
