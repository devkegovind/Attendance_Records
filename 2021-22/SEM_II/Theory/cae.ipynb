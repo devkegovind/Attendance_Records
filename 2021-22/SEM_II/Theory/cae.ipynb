{
 "cells": [
  {
   "cell_type": "code",
   "execution_count": 1,
   "metadata": {},
   "outputs": [],
   "source": [
    "import numpy as np\n",
    "import pandas as pd"
   ]
  },
  {
   "cell_type": "code",
   "execution_count": 24,
   "metadata": {},
   "outputs": [],
   "source": [
    "df = pd.read_excel(\"D:\\\\Downloads\\\\New folder\\\\2021-22\\\\TE_I.xlsx\")"
   ]
  },
  {
   "cell_type": "code",
   "execution_count": 25,
   "metadata": {},
   "outputs": [
    {
     "data": {
      "text/html": [
       "<div>\n",
       "<style scoped>\n",
       "    .dataframe tbody tr th:only-of-type {\n",
       "        vertical-align: middle;\n",
       "    }\n",
       "\n",
       "    .dataframe tbody tr th {\n",
       "        vertical-align: top;\n",
       "    }\n",
       "\n",
       "    .dataframe thead th {\n",
       "        text-align: right;\n",
       "    }\n",
       "</style>\n",
       "<table border=\"1\" class=\"dataframe\">\n",
       "  <thead>\n",
       "    <tr style=\"text-align: right;\">\n",
       "      <th></th>\n",
       "      <th>Roll No</th>\n",
       "      <th>Name of Student</th>\n",
       "    </tr>\n",
       "  </thead>\n",
       "  <tbody>\n",
       "    <tr>\n",
       "      <th>0</th>\n",
       "      <td>3101</td>\n",
       "      <td>BAYASKAR TANMAY PRAMOD</td>\n",
       "    </tr>\n",
       "    <tr>\n",
       "      <th>1</th>\n",
       "      <td>3102</td>\n",
       "      <td>IRATKAR PRAJWAL SANJAY</td>\n",
       "    </tr>\n",
       "    <tr>\n",
       "      <th>2</th>\n",
       "      <td>3103</td>\n",
       "      <td>METKARI SWAPNIL TANAJI</td>\n",
       "    </tr>\n",
       "    <tr>\n",
       "      <th>3</th>\n",
       "      <td>3104</td>\n",
       "      <td>YADAV PRANJAL RAJA RAM</td>\n",
       "    </tr>\n",
       "    <tr>\n",
       "      <th>4</th>\n",
       "      <td>3105</td>\n",
       "      <td>SIDDHARTH VIKAS KIRAD</td>\n",
       "    </tr>\n",
       "    <tr>\n",
       "      <th>...</th>\n",
       "      <td>...</td>\n",
       "      <td>...</td>\n",
       "    </tr>\n",
       "    <tr>\n",
       "      <th>57</th>\n",
       "      <td>3158</td>\n",
       "      <td>KALWADE ROHAN PRAVIN</td>\n",
       "    </tr>\n",
       "    <tr>\n",
       "      <th>58</th>\n",
       "      <td>3159</td>\n",
       "      <td>JADHAV PRATIK CHANDRAKANT</td>\n",
       "    </tr>\n",
       "    <tr>\n",
       "      <th>59</th>\n",
       "      <td>3160</td>\n",
       "      <td>SHINDE TEJAS ANIL</td>\n",
       "    </tr>\n",
       "    <tr>\n",
       "      <th>60</th>\n",
       "      <td>3161</td>\n",
       "      <td>KSHIRSAGAR SANDESH MADHUKAR</td>\n",
       "    </tr>\n",
       "    <tr>\n",
       "      <th>61</th>\n",
       "      <td>3162</td>\n",
       "      <td>SHINDE PRADNYA RAJENDRAKUMAR</td>\n",
       "    </tr>\n",
       "  </tbody>\n",
       "</table>\n",
       "<p>62 rows × 2 columns</p>\n",
       "</div>"
      ],
      "text/plain": [
       "    Roll No               Name of Student\n",
       "0      3101        BAYASKAR TANMAY PRAMOD\n",
       "1      3102        IRATKAR PRAJWAL SANJAY\n",
       "2      3103        METKARI SWAPNIL TANAJI\n",
       "3      3104        YADAV PRANJAL RAJA RAM\n",
       "4      3105         SIDDHARTH VIKAS KIRAD\n",
       "..      ...                           ...\n",
       "57     3158          KALWADE ROHAN PRAVIN\n",
       "58     3159     JADHAV PRATIK CHANDRAKANT\n",
       "59     3160             SHINDE TEJAS ANIL\n",
       "60     3161   KSHIRSAGAR SANDESH MADHUKAR\n",
       "61     3162  SHINDE PRADNYA RAJENDRAKUMAR\n",
       "\n",
       "[62 rows x 2 columns]"
      ]
     },
     "execution_count": 25,
     "metadata": {},
     "output_type": "execute_result"
    }
   ],
   "source": [
    "df"
   ]
  },
  {
   "cell_type": "code",
   "execution_count": 26,
   "metadata": {},
   "outputs": [],
   "source": [
    "df['Name of Student'] = [i.title() for i in df['Name of Student']]"
   ]
  },
  {
   "cell_type": "code",
   "execution_count": 27,
   "metadata": {},
   "outputs": [
    {
     "data": {
      "text/html": [
       "<div>\n",
       "<style scoped>\n",
       "    .dataframe tbody tr th:only-of-type {\n",
       "        vertical-align: middle;\n",
       "    }\n",
       "\n",
       "    .dataframe tbody tr th {\n",
       "        vertical-align: top;\n",
       "    }\n",
       "\n",
       "    .dataframe thead th {\n",
       "        text-align: right;\n",
       "    }\n",
       "</style>\n",
       "<table border=\"1\" class=\"dataframe\">\n",
       "  <thead>\n",
       "    <tr style=\"text-align: right;\">\n",
       "      <th></th>\n",
       "      <th>Roll No</th>\n",
       "      <th>Name of Student</th>\n",
       "    </tr>\n",
       "  </thead>\n",
       "  <tbody>\n",
       "    <tr>\n",
       "      <th>0</th>\n",
       "      <td>3101</td>\n",
       "      <td>Bayaskar Tanmay Pramod</td>\n",
       "    </tr>\n",
       "    <tr>\n",
       "      <th>1</th>\n",
       "      <td>3102</td>\n",
       "      <td>Iratkar Prajwal Sanjay</td>\n",
       "    </tr>\n",
       "    <tr>\n",
       "      <th>2</th>\n",
       "      <td>3103</td>\n",
       "      <td>Metkari Swapnil Tanaji</td>\n",
       "    </tr>\n",
       "    <tr>\n",
       "      <th>3</th>\n",
       "      <td>3104</td>\n",
       "      <td>Yadav Pranjal Raja Ram</td>\n",
       "    </tr>\n",
       "    <tr>\n",
       "      <th>4</th>\n",
       "      <td>3105</td>\n",
       "      <td>Siddharth Vikas Kirad</td>\n",
       "    </tr>\n",
       "  </tbody>\n",
       "</table>\n",
       "</div>"
      ],
      "text/plain": [
       "   Roll No         Name of Student\n",
       "0     3101  Bayaskar Tanmay Pramod\n",
       "1     3102  Iratkar Prajwal Sanjay\n",
       "2     3103  Metkari Swapnil Tanaji\n",
       "3     3104  Yadav Pranjal Raja Ram\n",
       "4     3105   Siddharth Vikas Kirad"
      ]
     },
     "execution_count": 27,
     "metadata": {},
     "output_type": "execute_result"
    }
   ],
   "source": [
    "df.head()"
   ]
  },
  {
   "cell_type": "code",
   "execution_count": 28,
   "metadata": {},
   "outputs": [
    {
     "data": {
      "text/plain": [
       "(62, 2)"
      ]
     },
     "execution_count": 28,
     "metadata": {},
     "output_type": "execute_result"
    }
   ],
   "source": [
    "df.shape"
   ]
  },
  {
   "cell_type": "code",
   "execution_count": null,
   "metadata": {},
   "outputs": [],
   "source": [
    "df.to_csv(\"TE-1.csv\")"
   ]
  },
  {
   "attachments": {},
   "cell_type": "markdown",
   "metadata": {},
   "source": [
    "**SEMESTER ATTENDANCE**"
   ]
  },
  {
   "cell_type": "code",
   "execution_count": 29,
   "metadata": {},
   "outputs": [],
   "source": [
    "import random\n",
    "import pandas as pd\n",
    "import numpy as np\n",
    "import datetime\n",
    "from pandas.tseries.holiday import USFederalHolidayCalendar\n",
    "from pandas.tseries.offsets import CustomBusinessDay\n",
    "import pandas as pd\n",
    "import holidays\n",
    "\n",
    "def sem_students_attendance(n, start_year, start_date, end_date):\n",
    "\n",
    "    students = range(n)\n",
    "    \n",
    "    # Set the start and end dates\n",
    "    start_date = pd.Timestamp(start_date)\n",
    "    end_date = pd.Timestamp(end_date)\n",
    "\n",
    "    # Get the Indian holidays for 2021\n",
    "    indian_holidays = holidays.IND(years=[start_year, start_year+0])\n",
    "\n",
    "    custom_business_day = CustomBusinessDay(weekmask='Mon Tue Fri', holidays=indian_holidays)\n",
    "\n",
    "    # Generate a range of dates between the start and end dates\n",
    "    date_range = pd.date_range(start=start_date, end=end_date, freq=custom_business_day).strftime('%Y-%m-%d')\n",
    "    \n",
    "\n",
    "\n",
    "    attendance_records1 = {}\n",
    "    \n",
    "    for student in students:\n",
    "        attendance_records1[student] = []\n",
    "        \n",
    "        for day in date_range:\n",
    "            attendance_records1[student].append('P' if random.random() < 0.85 else 'A')\n",
    "                \n",
    "    df = pd.DataFrame.from_dict(attendance_records1, orient='index', columns=date_range)\n",
    "    df['Present'] = df.apply(lambda x: x[x == 'P'].count(), axis=1)\n",
    "    df['Absent'] = df.apply(lambda x: x[x == 'A'].count(), axis=1)\n",
    "    df['%Att'] = round(df['Present'] / len(date_range) * 100)\n",
    "     \n",
    "    return df"
   ]
  },
  {
   "cell_type": "code",
   "execution_count": 30,
   "metadata": {},
   "outputs": [],
   "source": [
    "d1 = pd.concat([df, sem_students_attendance(62, 2022,'2022-01-03', '2022-04-26')], axis = 1)\n",
    "d1 = d1.set_index(\"Roll No\")\n",
    "d1.to_excel(\"D:\\\\Downloads\\\\New folder\\\\2021-22\\\\SEM_II\\\\SEM_ATT.xlsx\")\n",
    "d1.to_csv(\"SEM_ATT.csv\")"
   ]
  },
  {
   "attachments": {},
   "cell_type": "markdown",
   "metadata": {},
   "source": [
    "**FIRST MONTH ATTENDANCE**"
   ]
  },
  {
   "cell_type": "code",
   "execution_count": 31,
   "metadata": {},
   "outputs": [],
   "source": [
    "d2 = pd.concat([df, sem_students_attendance(62, 2022,'2022-01-03', '2022-02-03')], axis = 1)\n",
    "d2 = d2.set_index(\"Roll No\")\n",
    "d2.to_excel(\"D:\\\\Downloads\\\\New folder\\\\2021-22\\\\SEM_II\\\\FIRST_MONTH_ATT.xlsx\")\n",
    "d2.to_csv(\"FIRST_MONTH_ATT.csv\")"
   ]
  },
  {
   "attachments": {},
   "cell_type": "markdown",
   "metadata": {},
   "source": [
    "**SECOND MONTH ATTENDANCE**"
   ]
  },
  {
   "cell_type": "code",
   "execution_count": 32,
   "metadata": {},
   "outputs": [],
   "source": [
    "d3 = pd.concat([df, sem_students_attendance(62, 2022,'2022-02-04', '2022-03-04')], axis = 1)\n",
    "d3 = d3.set_index(\"Roll No\")\n",
    "d3.to_excel(\"D:\\\\Downloads\\\\New folder\\\\2021-22\\\\SEM_II\\\\SECOND_MONTH_ATT.xlsx\")\n",
    "d3.to_csv(\"SECOND_MONTH_ATT.csv\")"
   ]
  }
 ],
 "metadata": {
  "kernelspec": {
   "display_name": "Python 3",
   "language": "python",
   "name": "python3"
  },
  "language_info": {
   "codemirror_mode": {
    "name": "ipython",
    "version": 3
   },
   "file_extension": ".py",
   "mimetype": "text/x-python",
   "name": "python",
   "nbconvert_exporter": "python",
   "pygments_lexer": "ipython3",
   "version": "3.10.0"
  },
  "orig_nbformat": 4
 },
 "nbformat": 4,
 "nbformat_minor": 2
}
