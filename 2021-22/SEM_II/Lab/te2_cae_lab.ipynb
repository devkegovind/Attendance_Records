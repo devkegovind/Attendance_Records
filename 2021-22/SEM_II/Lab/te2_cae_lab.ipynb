{
 "cells": [
  {
   "cell_type": "code",
   "execution_count": 19,
   "metadata": {},
   "outputs": [],
   "source": [
    "import numpy as np\n",
    "import pandas as pd"
   ]
  },
  {
   "cell_type": "code",
   "execution_count": 20,
   "metadata": {},
   "outputs": [
    {
     "data": {
      "text/html": [
       "<div>\n",
       "<style scoped>\n",
       "    .dataframe tbody tr th:only-of-type {\n",
       "        vertical-align: middle;\n",
       "    }\n",
       "\n",
       "    .dataframe tbody tr th {\n",
       "        vertical-align: top;\n",
       "    }\n",
       "\n",
       "    .dataframe thead th {\n",
       "        text-align: right;\n",
       "    }\n",
       "</style>\n",
       "<table border=\"1\" class=\"dataframe\">\n",
       "  <thead>\n",
       "    <tr style=\"text-align: right;\">\n",
       "      <th></th>\n",
       "      <th>Unnamed: 0</th>\n",
       "      <th>Roll No</th>\n",
       "      <th>Name of Student</th>\n",
       "    </tr>\n",
       "  </thead>\n",
       "  <tbody>\n",
       "    <tr>\n",
       "      <th>0</th>\n",
       "      <td>0</td>\n",
       "      <td>3101</td>\n",
       "      <td>Bayaskar Tanmay Pramod</td>\n",
       "    </tr>\n",
       "    <tr>\n",
       "      <th>1</th>\n",
       "      <td>1</td>\n",
       "      <td>3102</td>\n",
       "      <td>Iratkar Prajwal Sanjay</td>\n",
       "    </tr>\n",
       "    <tr>\n",
       "      <th>2</th>\n",
       "      <td>2</td>\n",
       "      <td>3103</td>\n",
       "      <td>Metkari Swapnil Tanaji</td>\n",
       "    </tr>\n",
       "    <tr>\n",
       "      <th>3</th>\n",
       "      <td>3</td>\n",
       "      <td>3104</td>\n",
       "      <td>Yadav Pranjal Raja Ram</td>\n",
       "    </tr>\n",
       "    <tr>\n",
       "      <th>4</th>\n",
       "      <td>4</td>\n",
       "      <td>3105</td>\n",
       "      <td>Siddharth Vikas Kirad</td>\n",
       "    </tr>\n",
       "  </tbody>\n",
       "</table>\n",
       "</div>"
      ],
      "text/plain": [
       "   Unnamed: 0  Roll No         Name of Student\n",
       "0           0     3101  Bayaskar Tanmay Pramod\n",
       "1           1     3102  Iratkar Prajwal Sanjay\n",
       "2           2     3103  Metkari Swapnil Tanaji\n",
       "3           3     3104  Yadav Pranjal Raja Ram\n",
       "4           4     3105   Siddharth Vikas Kirad"
      ]
     },
     "execution_count": 20,
     "metadata": {},
     "output_type": "execute_result"
    }
   ],
   "source": [
    "df = pd.read_csv(\"D:\\Attendance\\\\2021-22\\\\ROLLCALL\\\\TE-1.csv\")\n",
    "df.head()"
   ]
  },
  {
   "cell_type": "code",
   "execution_count": 21,
   "metadata": {},
   "outputs": [],
   "source": [
    "df= df.drop('Unnamed: 0', axis =1)"
   ]
  },
  {
   "cell_type": "code",
   "execution_count": 22,
   "metadata": {},
   "outputs": [
    {
     "data": {
      "text/html": [
       "<div>\n",
       "<style scoped>\n",
       "    .dataframe tbody tr th:only-of-type {\n",
       "        vertical-align: middle;\n",
       "    }\n",
       "\n",
       "    .dataframe tbody tr th {\n",
       "        vertical-align: top;\n",
       "    }\n",
       "\n",
       "    .dataframe thead th {\n",
       "        text-align: right;\n",
       "    }\n",
       "</style>\n",
       "<table border=\"1\" class=\"dataframe\">\n",
       "  <thead>\n",
       "    <tr style=\"text-align: right;\">\n",
       "      <th></th>\n",
       "      <th>Roll No</th>\n",
       "      <th>Name of Student</th>\n",
       "    </tr>\n",
       "  </thead>\n",
       "  <tbody>\n",
       "    <tr>\n",
       "      <th>0</th>\n",
       "      <td>3101</td>\n",
       "      <td>Bayaskar Tanmay Pramod</td>\n",
       "    </tr>\n",
       "    <tr>\n",
       "      <th>1</th>\n",
       "      <td>3102</td>\n",
       "      <td>Iratkar Prajwal Sanjay</td>\n",
       "    </tr>\n",
       "    <tr>\n",
       "      <th>2</th>\n",
       "      <td>3103</td>\n",
       "      <td>Metkari Swapnil Tanaji</td>\n",
       "    </tr>\n",
       "    <tr>\n",
       "      <th>3</th>\n",
       "      <td>3104</td>\n",
       "      <td>Yadav Pranjal Raja Ram</td>\n",
       "    </tr>\n",
       "    <tr>\n",
       "      <th>4</th>\n",
       "      <td>3105</td>\n",
       "      <td>Siddharth Vikas Kirad</td>\n",
       "    </tr>\n",
       "  </tbody>\n",
       "</table>\n",
       "</div>"
      ],
      "text/plain": [
       "   Roll No         Name of Student\n",
       "0     3101  Bayaskar Tanmay Pramod\n",
       "1     3102  Iratkar Prajwal Sanjay\n",
       "2     3103  Metkari Swapnil Tanaji\n",
       "3     3104  Yadav Pranjal Raja Ram\n",
       "4     3105   Siddharth Vikas Kirad"
      ]
     },
     "execution_count": 22,
     "metadata": {},
     "output_type": "execute_result"
    }
   ],
   "source": [
    "df.head()"
   ]
  },
  {
   "cell_type": "code",
   "execution_count": 23,
   "metadata": {},
   "outputs": [
    {
     "data": {
      "text/plain": [
       "(62, 2)"
      ]
     },
     "execution_count": 23,
     "metadata": {},
     "output_type": "execute_result"
    }
   ],
   "source": [
    "df.shape"
   ]
  },
  {
   "attachments": {},
   "cell_type": "markdown",
   "metadata": {},
   "source": [
    "**BATCH A PRACTICAL ATTENDANCE**"
   ]
  },
  {
   "cell_type": "code",
   "execution_count": 24,
   "metadata": {},
   "outputs": [],
   "source": [
    "import random\n",
    "import pandas as pd\n",
    "import numpy as np\n",
    "import datetime\n",
    "from pandas.tseries.holiday import USFederalHolidayCalendar\n",
    "from pandas.tseries.offsets import CustomBusinessDay\n",
    "import pandas as pd\n",
    "import holidays\n",
    "\n",
    "def lab_students_att_a(n, start_year, start_date, end_date):\n",
    "    \n",
    "    students = range(n)\n",
    "    \n",
    "    # Set the start and end dates\n",
    "    start_date = pd.Timestamp(start_date)\n",
    "    end_date = pd.Timestamp(end_date)\n",
    "\n",
    "    # Get the Indian holidays for 2021\n",
    "    indian_holidays = holidays.IND(years=[start_year, start_year+0])\n",
    "\n",
    "    custom_business_day = CustomBusinessDay(weekmask='Tue', holidays=indian_holidays)\n",
    "\n",
    "    # Generate a range of dates between the start and end dates\n",
    "    date_range = pd.date_range(start=start_date, end=end_date, freq=custom_business_day).strftime(\"%Y-%m-%d\")\n",
    "       \n",
    "    practical_attendance = {}\n",
    "\n",
    "    for student in students:        \n",
    "        \n",
    "        practical_attendance[student] = []        \n",
    "                \n",
    "        for day in date_range:\n",
    "            practical_attendance[student].append('P' if random.random() < 0.9 else 'A')\n",
    "            \n",
    "               \n",
    "    df31 = pd.DataFrame.from_dict(practical_attendance, orient='index', columns=date_range)\n",
    "        \n",
    "    df31['Present'] = df31.apply(lambda x: x[x == 'P'].count(), axis=1)\n",
    "    df31['Absent'] = df31.apply(lambda x: x[x == 'A'].count(), axis=1)\n",
    "    df31['%Att'] = round(df31['Present'] /len(date_range) * 100,1)\n",
    "    df31['MARKS1'] = [random.randint(6,10) for i in range(0,n)]\n",
    "\n",
    "    for i, date in enumerate(date_range):\n",
    "        df31[f'MARKS{i+1}'] = np.random.choice(df31['MARKS1'], size=n)\n",
    "\n",
    "    df = df31\n",
    "\n",
    "    return df"
   ]
  },
  {
   "cell_type": "code",
   "execution_count": 25,
   "metadata": {},
   "outputs": [],
   "source": [
    "d1 = pd.concat([df[:20], lab_students_att_a(20, 2022, '2022-01-22', '2022-04-22')],axis=1)\n",
    "d1 = d1.set_index(\"Roll No\")\n",
    "d1.to_excel(\"D:\\\\Downloads\\\\New folder\\\\2021-22\\\\SEM_II\\\\BATCH_A.xlsx\")\n",
    "d1.to_csv(\"BATCH_A_.csv\")"
   ]
  },
  {
   "attachments": {},
   "cell_type": "markdown",
   "metadata": {},
   "source": [
    "**BATCH B PRACTICAL ATTENDNACE** "
   ]
  },
  {
   "cell_type": "code",
   "execution_count": 26,
   "metadata": {},
   "outputs": [],
   "source": [
    "import random\n",
    "import pandas as pd\n",
    "import numpy as np\n",
    "import datetime\n",
    "from pandas.tseries.holiday import USFederalHolidayCalendar\n",
    "from pandas.tseries.offsets import CustomBusinessDay\n",
    "import pandas as pd\n",
    "import holidays\n",
    "\n",
    "def lab_students_att_b(n, start_year, start_date, end_date):\n",
    "    \n",
    "    students = range(20, 40)\n",
    "    \n",
    "    # Set the start and end dates\n",
    "    start_date = pd.Timestamp(start_date)\n",
    "    end_date = pd.Timestamp(end_date)\n",
    "\n",
    "    # Get the Indian holidays for 2021\n",
    "    indian_holidays = holidays.IND(years=[start_year, start_year+0])\n",
    "\n",
    "    custom_business_day = CustomBusinessDay(weekmask='Mon', holidays=indian_holidays)\n",
    "\n",
    "    # Generate a range of dates between the start and end dates\n",
    "    date_range = pd.date_range(start=start_date, end=end_date, freq=custom_business_day).strftime(\"%Y-%m-%d\")\n",
    "       \n",
    "    practical_attendance = {}\n",
    "\n",
    "    for student in students:        \n",
    "        \n",
    "        practical_attendance[student] = []        \n",
    "                \n",
    "        for day in date_range:\n",
    "            practical_attendance[student].append('P' if random.random() < 0.9 else 'A')\n",
    "            \n",
    "               \n",
    "    df31 = pd.DataFrame.from_dict(practical_attendance, orient='index', columns=date_range)\n",
    "        \n",
    "    df31['Present'] = df31.apply(lambda x: x[x == 'P'].count(), axis=1)\n",
    "    df31['Absent'] = df31.apply(lambda x: x[x == 'A'].count(), axis=1)\n",
    "    df31['%Att'] = round(df31['Present'] /len(date_range) * 100,1)\n",
    "    df31['MARKS1'] = [random.randint(6,10) for i in range(0,n)]\n",
    "\n",
    "    for i, date in enumerate(date_range):\n",
    "        df31[f'MARKS{i+1}'] = np.random.choice(df31['MARKS1'], size=n)\n",
    "\n",
    "    df = df31\n",
    "\n",
    "    return df"
   ]
  },
  {
   "cell_type": "code",
   "execution_count": 27,
   "metadata": {},
   "outputs": [],
   "source": [
    "d2 = pd.concat([df[20:40], lab_students_att_b(20, 2022, '2022-01-22', '2022-04-22')],axis=1)\n",
    "d2 = d2.set_index(\"Roll No\")\n",
    "d2.to_excel(\"D:\\\\Downloads\\\\New folder\\\\2021-22\\\\SEM_II\\\\BATCH_B.xlsx\")\n",
    "d2.to_csv(\"BATCH_B.csv\")"
   ]
  },
  {
   "attachments": {},
   "cell_type": "markdown",
   "metadata": {},
   "source": [
    "**BATCH C PRACTICAL ATTENDNACE** "
   ]
  },
  {
   "cell_type": "code",
   "execution_count": 38,
   "metadata": {},
   "outputs": [],
   "source": [
    "import random\n",
    "import pandas as pd\n",
    "import numpy as np\n",
    "import datetime\n",
    "from pandas.tseries.holiday import USFederalHolidayCalendar\n",
    "from pandas.tseries.offsets import CustomBusinessDay\n",
    "import pandas as pd\n",
    "import holidays\n",
    "\n",
    "def lab_students_att_c(n, start_year, start_date, end_date):\n",
    "    \n",
    "    students = range(40,62)\n",
    "    \n",
    "    # Set the start and end dates\n",
    "    start_date = pd.Timestamp(start_date)\n",
    "    end_date = pd.Timestamp(end_date)\n",
    "\n",
    "    # Get the Indian holidays for 2021\n",
    "    indian_holidays = holidays.IND(years=[start_year, start_year+0])\n",
    "\n",
    "    custom_business_day = CustomBusinessDay(weekmask='Fri', holidays=indian_holidays)\n",
    "\n",
    "    # Generate a range of dates between the start and end dates\n",
    "    date_range = pd.date_range(start=start_date, end=end_date, freq=custom_business_day).strftime(\"%Y-%m-%d\")\n",
    "       \n",
    "    practical_attendance = {}\n",
    "\n",
    "    for student in students:        \n",
    "        \n",
    "        practical_attendance[student] = []        \n",
    "                \n",
    "        for day in date_range:\n",
    "            practical_attendance[student].append('P' if random.random() < 0.9 else 'A')\n",
    "            \n",
    "               \n",
    "    df31 = pd.DataFrame.from_dict(practical_attendance, orient='index', columns=date_range)\n",
    "        \n",
    "    df31['Present'] = df31.apply(lambda x: x[x == 'P'].count(), axis=1)\n",
    "    df31['Absent'] = df31.apply(lambda x: x[x == 'A'].count(), axis=1)\n",
    "    df31['%Att'] = round(df31['Present'] /len(date_range) * 100,1)\n",
    "    df31['MARKS1'] = [random.randint(6,10) for i in range(0,n)]\n",
    "\n",
    "    for i, date in enumerate(date_range):\n",
    "        df31[f'MARKS{i+1}'] = np.random.choice(df31['MARKS1'], size=n)\n",
    "\n",
    "    df = df31\n",
    "\n",
    "    return df"
   ]
  },
  {
   "cell_type": "code",
   "execution_count": 39,
   "metadata": {},
   "outputs": [],
   "source": [
    "d3 = pd.concat([df[40:62], lab_students_att_c(22, 2022, '2022-01-22', '2022-04-22')],axis=1)\n",
    "d3 = d3.set_index(\"Roll No\")\n",
    "d3.to_excel(\"D:\\\\Downloads\\\\New folder\\\\2021-22\\\\SEM_II\\\\BATCH_C.xlsx\")\n",
    "d3.to_csv(\"BATCH_C.csv\")"
   ]
  }
 ],
 "metadata": {
  "kernelspec": {
   "display_name": "Python 3",
   "language": "python",
   "name": "python3"
  },
  "language_info": {
   "codemirror_mode": {
    "name": "ipython",
    "version": 3
   },
   "file_extension": ".py",
   "mimetype": "text/x-python",
   "name": "python",
   "nbconvert_exporter": "python",
   "pygments_lexer": "ipython3",
   "version": "3.10.0"
  },
  "orig_nbformat": 4
 },
 "nbformat": 4,
 "nbformat_minor": 2
}
