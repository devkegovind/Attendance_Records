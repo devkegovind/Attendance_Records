{
 "cells": [
  {
   "cell_type": "code",
   "execution_count": 1,
   "metadata": {},
   "outputs": [],
   "source": [
    "import pandas as pd\n",
    "import numpy as np"
   ]
  },
  {
   "cell_type": "code",
   "execution_count": 2,
   "metadata": {},
   "outputs": [],
   "source": [
    "df1 = pd.read_excel(\"D:\\Downloads\\AY 2020-21.xlsx\")"
   ]
  },
  {
   "cell_type": "code",
   "execution_count": 3,
   "metadata": {},
   "outputs": [
    {
     "data": {
      "text/html": [
       "<div>\n",
       "<style scoped>\n",
       "    .dataframe tbody tr th:only-of-type {\n",
       "        vertical-align: middle;\n",
       "    }\n",
       "\n",
       "    .dataframe tbody tr th {\n",
       "        vertical-align: top;\n",
       "    }\n",
       "\n",
       "    .dataframe thead th {\n",
       "        text-align: right;\n",
       "    }\n",
       "</style>\n",
       "<table border=\"1\" class=\"dataframe\">\n",
       "  <thead>\n",
       "    <tr style=\"text-align: right;\">\n",
       "      <th></th>\n",
       "      <th>Roll No</th>\n",
       "      <th>Name of Student</th>\n",
       "    </tr>\n",
       "  </thead>\n",
       "  <tbody>\n",
       "    <tr>\n",
       "      <th>0</th>\n",
       "      <td>3301</td>\n",
       "      <td>Liman Abhijeet Shivaji</td>\n",
       "    </tr>\n",
       "    <tr>\n",
       "      <th>1</th>\n",
       "      <td>3302</td>\n",
       "      <td>Adlinge Akshay Hanamant</td>\n",
       "    </tr>\n",
       "    <tr>\n",
       "      <th>2</th>\n",
       "      <td>3303</td>\n",
       "      <td>Awasare Rohan Krishna</td>\n",
       "    </tr>\n",
       "    <tr>\n",
       "      <th>3</th>\n",
       "      <td>3304</td>\n",
       "      <td>Bachal Shubham Vishal</td>\n",
       "    </tr>\n",
       "    <tr>\n",
       "      <th>4</th>\n",
       "      <td>3305</td>\n",
       "      <td>Bagul Akash Jagan</td>\n",
       "    </tr>\n",
       "    <tr>\n",
       "      <th>...</th>\n",
       "      <td>...</td>\n",
       "      <td>...</td>\n",
       "    </tr>\n",
       "    <tr>\n",
       "      <th>75</th>\n",
       "      <td>3376</td>\n",
       "      <td>Pawar Shyam Shivaji</td>\n",
       "    </tr>\n",
       "    <tr>\n",
       "      <th>76</th>\n",
       "      <td>3377</td>\n",
       "      <td>Zudape Sudarshan Ramchandra</td>\n",
       "    </tr>\n",
       "    <tr>\n",
       "      <th>77</th>\n",
       "      <td>3378</td>\n",
       "      <td>Lakhan Ajit Londhe</td>\n",
       "    </tr>\n",
       "    <tr>\n",
       "      <th>78</th>\n",
       "      <td>3379</td>\n",
       "      <td>Rigved Deepak Rajukar</td>\n",
       "    </tr>\n",
       "    <tr>\n",
       "      <th>79</th>\n",
       "      <td>3380</td>\n",
       "      <td>Onkar Dilip Kardiwal</td>\n",
       "    </tr>\n",
       "  </tbody>\n",
       "</table>\n",
       "<p>80 rows × 2 columns</p>\n",
       "</div>"
      ],
      "text/plain": [
       "    Roll No              Name of Student\n",
       "0      3301       Liman Abhijeet Shivaji\n",
       "1      3302      Adlinge Akshay Hanamant\n",
       "2      3303        Awasare Rohan Krishna\n",
       "3      3304        Bachal Shubham Vishal\n",
       "4      3305            Bagul Akash Jagan\n",
       "..      ...                          ...\n",
       "75     3376          Pawar Shyam Shivaji\n",
       "76     3377  Zudape Sudarshan Ramchandra\n",
       "77     3378           Lakhan Ajit Londhe\n",
       "78     3379        Rigved Deepak Rajukar\n",
       "79     3380         Onkar Dilip Kardiwal\n",
       "\n",
       "[80 rows x 2 columns]"
      ]
     },
     "execution_count": 3,
     "metadata": {},
     "output_type": "execute_result"
    }
   ],
   "source": [
    "df1"
   ]
  },
  {
   "attachments": {},
   "cell_type": "markdown",
   "metadata": {},
   "source": [
    "**SEMESTERWISE ATTENDANCE**"
   ]
  },
  {
   "cell_type": "code",
   "execution_count": 4,
   "metadata": {},
   "outputs": [],
   "source": [
    "import random\n",
    "import pandas as pd\n",
    "import numpy as np\n",
    "import datetime\n",
    "from pandas.tseries.holiday import USFederalHolidayCalendar\n",
    "from pandas.tseries.offsets import CustomBusinessDay\n",
    "import pandas as pd\n",
    "import holidays\n",
    "\n",
    "def sem_students_attendance(n, start_year, start_date, end_date):\n",
    "\n",
    "    students = range(n)\n",
    "    \n",
    "    # Set the start and end dates\n",
    "    start_date = pd.Timestamp(start_date)\n",
    "    end_date = pd.Timestamp(end_date)\n",
    "\n",
    "    # Get the Indian holidays for 2021\n",
    "    indian_holidays = holidays.IND(years=[start_year, start_year+0])\n",
    "\n",
    "    custom_business_day = CustomBusinessDay(weekmask='Mon Tue Thu Fri', holidays=indian_holidays)\n",
    "\n",
    "    # Generate a range of dates between the start and end dates\n",
    "    date_range = pd.date_range(start=start_date, end=end_date, freq=custom_business_day).strftime('%Y-%m-%d')\n",
    "    \n",
    "\n",
    "\n",
    "    attendance_records1 = {}\n",
    "    \n",
    "    for student in students:\n",
    "        attendance_records1[student] = []\n",
    "        \n",
    "        for day in date_range:\n",
    "            attendance_records1[student].append('P' if random.random() < 0.85 else 'A')\n",
    "                \n",
    "    df = pd.DataFrame.from_dict(attendance_records1, orient='index', columns=date_range)\n",
    "    df['Present'] = df.apply(lambda x: x[x == 'P'].count(), axis=1)\n",
    "    df['Absent'] = df.apply(lambda x: x[x == 'A'].count(), axis=1)\n",
    "    df['%Att'] = round(df['Present'] / len(date_range) * 100)\n",
    "     \n",
    "    return df"
   ]
  },
  {
   "cell_type": "code",
   "execution_count": 7,
   "metadata": {},
   "outputs": [],
   "source": [
    "d1 = pd.concat([df1, sem_students_attendance(df1.shape[0], 2021, '2021-02-08', '2021-05-15')],axis=1)\n",
    "d1 = d1.set_index(\"Roll No\")\n",
    "d1.to_excel(\"D:\\\\Downloads\\\\New folder\\\\2020-21\\\\SEM_II\\\\SEM_ATT.xlsx\")\n",
    "d1.to_csv(\"SEM_ATT.csv\")"
   ]
  },
  {
   "attachments": {},
   "cell_type": "markdown",
   "metadata": {},
   "source": [
    "**FIRST MONTH ATTENDANCE**"
   ]
  },
  {
   "cell_type": "code",
   "execution_count": 9,
   "metadata": {},
   "outputs": [],
   "source": [
    "d2 = pd.concat([df1, sem_students_attendance(df1.shape[0], 2021, '2021-02-08', '2021-03-08')],axis=1)\n",
    "d2 = d2.set_index(\"Roll No\")\n",
    "d2.to_excel(\"D:\\\\Downloads\\\\New folder\\\\2020-21\\\\SEM_II\\\\FIRST_MONTH_ATT.xlsx\")\n",
    "d2.to_csv(\"FIRST_MONTH_ATT.csv\")"
   ]
  },
  {
   "attachments": {},
   "cell_type": "markdown",
   "metadata": {},
   "source": [
    "**SECOND MONTH ATTENDANCE**"
   ]
  },
  {
   "cell_type": "code",
   "execution_count": 11,
   "metadata": {},
   "outputs": [],
   "source": [
    "d3 = pd.concat([df1, sem_students_attendance(df1.shape[0], 2021, '2021-03-09', '2021-04-09')],axis=1)\n",
    "d3 = d3.set_index(\"Roll No\")\n",
    "d3.to_excel(\"D:\\\\Downloads\\\\New folder\\\\2020-21\\\\SEM_II\\\\SECOND_MONTH_ATT.xlsx\")\n",
    "d3.to_csv(\"SECOND_MONTH_ATT.csv\")"
   ]
  },
  {
   "cell_type": "code",
   "execution_count": null,
   "metadata": {},
   "outputs": [],
   "source": []
  }
 ],
 "metadata": {
  "kernelspec": {
   "display_name": "Python 3",
   "language": "python",
   "name": "python3"
  },
  "language_info": {
   "codemirror_mode": {
    "name": "ipython",
    "version": 3
   },
   "file_extension": ".py",
   "mimetype": "text/x-python",
   "name": "python",
   "nbconvert_exporter": "python",
   "pygments_lexer": "ipython3",
   "version": "3.10.0"
  },
  "orig_nbformat": 4
 },
 "nbformat": 4,
 "nbformat_minor": 2
}
