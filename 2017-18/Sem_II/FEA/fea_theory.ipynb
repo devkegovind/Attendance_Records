{
 "cells": [
  {
   "cell_type": "code",
   "execution_count": 1,
   "metadata": {},
   "outputs": [],
   "source": [
    "import numpy as np\n",
    "import pandas as pd"
   ]
  },
  {
   "cell_type": "code",
   "execution_count": 2,
   "metadata": {},
   "outputs": [],
   "source": [
    "df = pd.read_excel(\"D:\\Downloads\\Roll Call SE, TE _ BE Mech AY 2017-18.xlsx\")"
   ]
  },
  {
   "cell_type": "code",
   "execution_count": 3,
   "metadata": {},
   "outputs": [],
   "source": [
    "df['Name of Student'] = [i.title() for i in df['Name of Student']]"
   ]
  },
  {
   "cell_type": "code",
   "execution_count": 4,
   "metadata": {},
   "outputs": [],
   "source": [
    "import random\n",
    "import pandas as pd\n",
    "import numpy as np\n",
    "import datetime\n",
    "from pandas.tseries.holiday import USFederalHolidayCalendar\n",
    "from pandas.tseries.offsets import CustomBusinessDay\n",
    "\n",
    "def te_students_attendance111(n, start_date, end_date):\n",
    "    \n",
    "    students = range(n)\n",
    "    \n",
    "    cal = USFederalHolidayCalendar()\n",
    "    holidays = cal.holidays(start=start_date, end=end_date)\n",
    "    \n",
    "    custom_business_day = CustomBusinessDay(weekmask='Tue Wed Thu Fri', holidays=holidays)\n",
    "\n",
    "    date_range = pd.date_range(start=start_date, end=end_date, freq=custom_business_day)\n",
    "    \n",
    "    attendance_records1 = {}\n",
    "    \n",
    "    for student in students:\n",
    "        attendance_records1[student] = []\n",
    "        \n",
    "        for day in date_range:\n",
    "            attendance_records1[student].append('P' if random.random() < 0.85 else 'A')\n",
    "                \n",
    "    df = pd.DataFrame.from_dict(attendance_records1, orient='index', columns=date_range)\n",
    "    df['Present'] = df.apply(lambda x: x[x == 'P'].count(), axis=1)\n",
    "    df['Absent'] = df.apply(lambda x: x[x == 'A'].count(), axis=1)\n",
    "    df['%Att'] = round(df['Present'] / len(date_range) * 100,2)\n",
    "    df['UT1'] = [random.randint(10,30) for i in range(0,n)]\n",
    "    df['PREL'] = [random.randint(26, 65) for i in range(0, n)]\n",
    "     \n",
    "    return df\n"
   ]
  },
  {
   "cell_type": "code",
   "execution_count": 5,
   "metadata": {},
   "outputs": [],
   "source": [
    "sem_att = pd.concat([df, te_students_attendance111(64, '2017-12-19', '2018-03-28')], axis = 1)"
   ]
  },
  {
   "cell_type": "code",
   "execution_count": 6,
   "metadata": {},
   "outputs": [],
   "source": [
    "sem_att.to_csv(\"sem_fea_att.csv\")"
   ]
  },
  {
   "cell_type": "code",
   "execution_count": 7,
   "metadata": {},
   "outputs": [
    {
     "data": {
      "text/plain": [
       "Index([         'Roll No.',   'Name of Student', 2017-12-19 00:00:00,\n",
       "       2017-12-20 00:00:00, 2017-12-21 00:00:00, 2017-12-22 00:00:00,\n",
       "       2017-12-26 00:00:00, 2017-12-27 00:00:00, 2017-12-28 00:00:00,\n",
       "       2017-12-29 00:00:00, 2018-01-02 00:00:00, 2018-01-03 00:00:00,\n",
       "       2018-01-04 00:00:00, 2018-01-05 00:00:00, 2018-01-09 00:00:00,\n",
       "       2018-01-10 00:00:00, 2018-01-11 00:00:00, 2018-01-12 00:00:00,\n",
       "       2018-01-16 00:00:00, 2018-01-17 00:00:00, 2018-01-18 00:00:00,\n",
       "       2018-01-19 00:00:00, 2018-01-23 00:00:00, 2018-01-24 00:00:00,\n",
       "       2018-01-25 00:00:00, 2018-01-26 00:00:00, 2018-01-30 00:00:00,\n",
       "       2018-01-31 00:00:00, 2018-02-01 00:00:00, 2018-02-02 00:00:00,\n",
       "       2018-02-06 00:00:00, 2018-02-07 00:00:00, 2018-02-08 00:00:00,\n",
       "       2018-02-09 00:00:00, 2018-02-13 00:00:00, 2018-02-14 00:00:00,\n",
       "       2018-02-15 00:00:00, 2018-02-16 00:00:00, 2018-02-20 00:00:00,\n",
       "       2018-02-21 00:00:00, 2018-02-22 00:00:00, 2018-02-23 00:00:00,\n",
       "       2018-02-27 00:00:00, 2018-02-28 00:00:00, 2018-03-01 00:00:00,\n",
       "       2018-03-02 00:00:00, 2018-03-06 00:00:00, 2018-03-07 00:00:00,\n",
       "       2018-03-08 00:00:00, 2018-03-09 00:00:00, 2018-03-13 00:00:00,\n",
       "       2018-03-14 00:00:00, 2018-03-15 00:00:00, 2018-03-16 00:00:00,\n",
       "       2018-03-20 00:00:00, 2018-03-21 00:00:00, 2018-03-22 00:00:00,\n",
       "       2018-03-23 00:00:00, 2018-03-27 00:00:00, 2018-03-28 00:00:00,\n",
       "                 'Present',            'Absent',              '%Att',\n",
       "                     'UT1',              'PREL'],\n",
       "      dtype='object')"
      ]
     },
     "execution_count": 7,
     "metadata": {},
     "output_type": "execute_result"
    }
   ],
   "source": [
    "sem_att.columns"
   ]
  },
  {
   "attachments": {},
   "cell_type": "markdown",
   "metadata": {},
   "source": [
    "**First Monthly Attendance**"
   ]
  },
  {
   "cell_type": "code",
   "execution_count": 8,
   "metadata": {},
   "outputs": [],
   "source": [
    "month_1 = pd.concat([df, te_students_attendance111(64, '2017-12-19', '2018-01-19')], axis = 1)\n",
    "month_1.to_csv(\"first_month_att.csv\")"
   ]
  },
  {
   "attachments": {},
   "cell_type": "markdown",
   "metadata": {},
   "source": [
    "**SECOND MONTH ATTENDANCE**"
   ]
  },
  {
   "cell_type": "code",
   "execution_count": 9,
   "metadata": {},
   "outputs": [],
   "source": [
    "month_2 = pd.concat([df, te_students_attendance111(64, '2018-01-23', '2018-02-23')], axis = 1)\n",
    "month_2.to_csv(\"second_month_att.csv\")"
   ]
  },
  {
   "cell_type": "code",
   "execution_count": null,
   "metadata": {},
   "outputs": [],
   "source": []
  }
 ],
 "metadata": {
  "kernelspec": {
   "display_name": "Python 3",
   "language": "python",
   "name": "python3"
  },
  "language_info": {
   "codemirror_mode": {
    "name": "ipython",
    "version": 3
   },
   "file_extension": ".py",
   "mimetype": "text/x-python",
   "name": "python",
   "nbconvert_exporter": "python",
   "pygments_lexer": "ipython3",
   "version": "3.10.0"
  },
  "orig_nbformat": 4
 },
 "nbformat": 4,
 "nbformat_minor": 2
}
