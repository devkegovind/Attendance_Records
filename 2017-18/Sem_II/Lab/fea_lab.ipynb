{
 "cells": [
  {
   "cell_type": "code",
   "execution_count": 1,
   "metadata": {},
   "outputs": [],
   "source": [
    "import numpy as np\n",
    "import pandas as pd"
   ]
  },
  {
   "cell_type": "code",
   "execution_count": 2,
   "metadata": {},
   "outputs": [],
   "source": [
    "df = pd.read_excel(\"D:\\Downloads\\Roll Call SE, TE _ BE Mech AY 2017-18.xlsx\")"
   ]
  },
  {
   "cell_type": "code",
   "execution_count": 3,
   "metadata": {},
   "outputs": [],
   "source": [
    "df['Name of Student'] = [i.title() for i in df['Name of Student']]"
   ]
  },
  {
   "attachments": {},
   "cell_type": "markdown",
   "metadata": {},
   "source": [
    "**BATCH A PRACTICAL ATTENDANCE**"
   ]
  },
  {
   "cell_type": "code",
   "execution_count": 4,
   "metadata": {},
   "outputs": [],
   "source": [
    "\n",
    "import random\n",
    "import pandas as pd\n",
    "import numpy as np\n",
    "import datetime\n",
    "from pandas.tseries.holiday import USFederalHolidayCalendar\n",
    "from pandas.tseries.offsets import CustomBusinessDay\n",
    "\n",
    "def te_students_attendance61(n, start_date, end_date):\n",
    "    \n",
    "    students = range(n)\n",
    "    \n",
    "    cal = USFederalHolidayCalendar()\n",
    "    holidays = cal.holidays(start=start_date, end=end_date)\n",
    "    \n",
    "    custom_business_day = CustomBusinessDay(weekmask='Wed', holidays=holidays)\n",
    "\n",
    "    date_range = pd.date_range(start=start_date, end=end_date, freq=custom_business_day)\n",
    "    \n",
    "    completion_records1 = {}\n",
    "    practical_attendance = {}\n",
    "\n",
    "    for student in students:\n",
    "        \n",
    "        completion_records1[student] = []\n",
    "        practical_attendance[student] = []\n",
    "        \n",
    "                \n",
    "        for day in range(8):\n",
    "            practical_attendance[student].append('P' if random.random() < 0.9 else 'A')\n",
    "        \n",
    "        for day in range(8):          \n",
    "            completion_records1[student].append('C' if random.random() < .85 else 'NC')\n",
    "            \n",
    "        \n",
    "    \n",
    "    \n",
    "    df31 = pd.DataFrame.from_dict(practical_attendance, orient='index', columns=range(1,9))\n",
    "    df31['Present1'] = df31.apply(lambda x: x[x == 'P'].count(), axis=1)\n",
    "    df31['Absent1'] = df31.apply(lambda x: x[x == 'A'].count(), axis=1)\n",
    "    df31['%Att1'] = round(df31['Present1'] / 8 * 100,2)\n",
    "    df21 = pd.DataFrame.from_dict(completion_records1, orient='index', columns=list(\"ABCDEFGH\"))\n",
    "    df31['EXP1'] = [random.randint(6,10) for i in range(0,n)]\n",
    "    df31['EXP2'] = np.random.choice(df31['EXP1'], size = n)\n",
    "    df31['EXP3'] = np.random.choice(df31['EXP1'], size = n)\n",
    "    df31['EXP4'] = np.random.choice(df31['EXP1'], size = n)\n",
    "    df31['EXP5'] = np.random.choice(df31['EXP1'], size = n)\n",
    "    df31['EXP6'] = np.random.choice(df31['EXP1'], size = n)\n",
    "    df31['EXP7'] = np.random.choice(df31['EXP1'], size = n)\n",
    "    df31['EXP8'] = np.random.choice(df31['EXP1'], size = n)\n",
    "    \n",
    "    \n",
    "    df = pd.concat([df31, df21], axis = 1)\n",
    "\n",
    "    return df\n"
   ]
  },
  {
   "cell_type": "code",
   "execution_count": 5,
   "metadata": {},
   "outputs": [],
   "source": [
    "batch_a = pd.concat([df[0:20], te_students_attendance61(20, '2017-12-19', '2018-03-28')], axis = 1)"
   ]
  },
  {
   "cell_type": "code",
   "execution_count": 6,
   "metadata": {},
   "outputs": [],
   "source": [
    "batch_a.to_csv(\"batch_a.csv\")"
   ]
  },
  {
   "attachments": {},
   "cell_type": "markdown",
   "metadata": {},
   "source": [
    "**BATCH B PRACTICAL ATTENDANCE**"
   ]
  },
  {
   "cell_type": "code",
   "execution_count": 7,
   "metadata": {},
   "outputs": [],
   "source": [
    "\n",
    "import random\n",
    "import pandas as pd\n",
    "import numpy as np\n",
    "import datetime\n",
    "from pandas.tseries.holiday import USFederalHolidayCalendar\n",
    "from pandas.tseries.offsets import CustomBusinessDay\n",
    "\n",
    "def te_students_attendance62(n, start_date, end_date):\n",
    "    \n",
    "    students = range(20,40)\n",
    "    \n",
    "    cal = USFederalHolidayCalendar()\n",
    "    holidays = cal.holidays(start=start_date, end=end_date)\n",
    "    \n",
    "    custom_business_day = CustomBusinessDay(weekmask='Tue', holidays=holidays)\n",
    "\n",
    "    date_range = pd.date_range(start=start_date, end=end_date, freq=custom_business_day)\n",
    "    \n",
    "    completion_records1 = {}\n",
    "    practical_attendance = {}\n",
    "\n",
    "    for student in students:\n",
    "        \n",
    "        completion_records1[student] = []\n",
    "        practical_attendance[student] = []\n",
    "        \n",
    "                \n",
    "        for day in range(8):\n",
    "            practical_attendance[student].append('P' if random.random() < 0.9 else 'A')\n",
    "        \n",
    "        for day in range(8):          \n",
    "            completion_records1[student].append('C' if random.random() < .85 else 'NC')\n",
    "            \n",
    "        \n",
    "    \n",
    "    \n",
    "    df31 = pd.DataFrame.from_dict(practical_attendance, orient='index', columns=range(1,9))\n",
    "    df31['Present1'] = df31.apply(lambda x: x[x == 'P'].count(), axis=1)\n",
    "    df31['Absent1'] = df31.apply(lambda x: x[x == 'A'].count(), axis=1)\n",
    "    df31['%Att1'] = round(df31['Present1'] / 8 * 100,2)\n",
    "    df21 = pd.DataFrame.from_dict(completion_records1, orient='index', columns=list(\"ABCDEFGH\"))\n",
    "    df31['EXP1'] = [random.randint(6,10) for i in range(0,n)]\n",
    "    df31['EXP2'] = np.random.choice(df31['EXP1'], size = n)\n",
    "    df31['EXP3'] = np.random.choice(df31['EXP1'], size = n)\n",
    "    df31['EXP4'] = np.random.choice(df31['EXP1'], size = n)\n",
    "    df31['EXP5'] = np.random.choice(df31['EXP1'], size = n)\n",
    "    df31['EXP6'] = np.random.choice(df31['EXP1'], size = n)\n",
    "    df31['EXP7'] = np.random.choice(df31['EXP1'], size = n)\n",
    "    df31['EXP8'] = np.random.choice(df31['EXP1'], size = n)\n",
    "    \n",
    "    \n",
    "    df = pd.concat([df31, df21], axis = 1)\n",
    "\n",
    "    return df\n"
   ]
  },
  {
   "cell_type": "code",
   "execution_count": 8,
   "metadata": {},
   "outputs": [],
   "source": [
    "batch_b = pd.concat([df[20:40], te_students_attendance62(20, '2017-12-19', '2018-03-28')], axis = 1)"
   ]
  },
  {
   "cell_type": "code",
   "execution_count": 9,
   "metadata": {},
   "outputs": [],
   "source": [
    "batch_b.to_csv(\"batch_b.csv\")"
   ]
  },
  {
   "attachments": {},
   "cell_type": "markdown",
   "metadata": {},
   "source": [
    "**BATCH C PRACTICAL ATTENDANCE**"
   ]
  },
  {
   "cell_type": "code",
   "execution_count": 10,
   "metadata": {},
   "outputs": [],
   "source": [
    "\n",
    "import random\n",
    "import pandas as pd\n",
    "import numpy as np\n",
    "import datetime\n",
    "from pandas.tseries.holiday import USFederalHolidayCalendar\n",
    "from pandas.tseries.offsets import CustomBusinessDay\n",
    "\n",
    "def te_students_attendance63(n, start_date, end_date):\n",
    "    \n",
    "    students = range(40, 60)\n",
    "    \n",
    "    cal = USFederalHolidayCalendar()\n",
    "    holidays = cal.holidays(start=start_date, end=end_date)\n",
    "    \n",
    "    custom_business_day = CustomBusinessDay(weekmask='Fri', holidays=holidays)\n",
    "\n",
    "    date_range = pd.date_range(start=start_date, end=end_date, freq=custom_business_day)\n",
    "    \n",
    "    completion_records1 = {}\n",
    "    practical_attendance = {}\n",
    "\n",
    "    for student in students:\n",
    "        \n",
    "        completion_records1[student] = []\n",
    "        practical_attendance[student] = []\n",
    "        \n",
    "                \n",
    "        for day in range(8):\n",
    "            practical_attendance[student].append('P' if random.random() < 0.9 else 'A')\n",
    "        \n",
    "        for day in range(8):          \n",
    "            completion_records1[student].append('C' if random.random() < .85 else 'NC')\n",
    "            \n",
    "        \n",
    "    \n",
    "    \n",
    "    df31 = pd.DataFrame.from_dict(practical_attendance, orient='index', columns=range(1,9))\n",
    "    df31['Present1'] = df31.apply(lambda x: x[x == 'P'].count(), axis=1)\n",
    "    df31['Absent1'] = df31.apply(lambda x: x[x == 'A'].count(), axis=1)\n",
    "    df31['%Att1'] = round(df31['Present1'] / 8 * 100,2)\n",
    "    df21 = pd.DataFrame.from_dict(completion_records1, orient='index', columns=list(\"ABCDEFGH\"))\n",
    "    df31['EXP1'] = [random.randint(6,10) for i in range(0,n)]\n",
    "    df31['EXP2'] = np.random.choice(df31['EXP1'], size = n)\n",
    "    df31['EXP3'] = np.random.choice(df31['EXP1'], size = n)\n",
    "    df31['EXP4'] = np.random.choice(df31['EXP1'], size = n)\n",
    "    df31['EXP5'] = np.random.choice(df31['EXP1'], size = n)\n",
    "    df31['EXP6'] = np.random.choice(df31['EXP1'], size = n)\n",
    "    df31['EXP7'] = np.random.choice(df31['EXP1'], size = n)\n",
    "    df31['EXP8'] = np.random.choice(df31['EXP1'], size = n)\n",
    "    \n",
    "    \n",
    "    df = pd.concat([df31, df21], axis = 1)\n",
    "\n",
    "    return df\n"
   ]
  },
  {
   "cell_type": "code",
   "execution_count": 11,
   "metadata": {},
   "outputs": [],
   "source": [
    "batch_c = pd.concat([df[40:60], te_students_attendance63(20, '2017-12-19', '2018-03-28')], axis = 1)"
   ]
  },
  {
   "cell_type": "code",
   "execution_count": 12,
   "metadata": {},
   "outputs": [],
   "source": [
    "batch_c.to_csv(\"batch_c.csv\")"
   ]
  },
  {
   "attachments": {},
   "cell_type": "markdown",
   "metadata": {},
   "source": [
    "**BATCH D PRACTICAL ATTENDANCE**"
   ]
  },
  {
   "cell_type": "code",
   "execution_count": 13,
   "metadata": {},
   "outputs": [],
   "source": [
    "\n",
    "import random\n",
    "import pandas as pd\n",
    "import numpy as np\n",
    "import datetime\n",
    "from pandas.tseries.holiday import USFederalHolidayCalendar\n",
    "from pandas.tseries.offsets import CustomBusinessDay\n",
    "\n",
    "def te_students_attendance64(n, start_date, end_date):\n",
    "    \n",
    "    students = range(60,64)\n",
    "    \n",
    "    cal = USFederalHolidayCalendar()\n",
    "    holidays = cal.holidays(start=start_date, end=end_date)\n",
    "    \n",
    "    custom_business_day = CustomBusinessDay(weekmask='Thu', holidays=holidays)\n",
    "\n",
    "    date_range = pd.date_range(start=start_date, end=end_date, freq=custom_business_day)\n",
    "    \n",
    "    completion_records1 = {}\n",
    "    practical_attendance = {}\n",
    "\n",
    "    for student in students:\n",
    "        \n",
    "        completion_records1[student] = []\n",
    "        practical_attendance[student] = []\n",
    "        \n",
    "                \n",
    "        for day in range(8):\n",
    "            practical_attendance[student].append('P' if random.random() < 0.9 else 'A')\n",
    "        \n",
    "        for day in range(8):          \n",
    "            completion_records1[student].append('C' if random.random() < .85 else 'NC')\n",
    "            \n",
    "        \n",
    "    \n",
    "    \n",
    "    df31 = pd.DataFrame.from_dict(practical_attendance, orient='index', columns=range(1,9))\n",
    "    df31['Present1'] = df31.apply(lambda x: x[x == 'P'].count(), axis=1)\n",
    "    df31['Absent1'] = df31.apply(lambda x: x[x == 'A'].count(), axis=1)\n",
    "    df31['%Att1'] = round(df31['Present1'] / 8 * 100,2)\n",
    "    df21 = pd.DataFrame.from_dict(completion_records1, orient='index', columns=list(\"ABCDEFGH\"))\n",
    "    df31['EXP1'] = [random.randint(6,10) for i in range(0,n)]\n",
    "    df31['EXP2'] = np.random.choice(df31['EXP1'], size = n)\n",
    "    df31['EXP3'] = np.random.choice(df31['EXP1'], size = n)\n",
    "    df31['EXP4'] = np.random.choice(df31['EXP1'], size = n)\n",
    "    df31['EXP5'] = np.random.choice(df31['EXP1'], size = n)\n",
    "    df31['EXP6'] = np.random.choice(df31['EXP1'], size = n)\n",
    "    df31['EXP7'] = np.random.choice(df31['EXP1'], size = n)\n",
    "    df31['EXP8'] = np.random.choice(df31['EXP1'], size = n)\n",
    "    \n",
    "    \n",
    "    df = pd.concat([df31, df21], axis = 1)\n",
    "\n",
    "    return df\n"
   ]
  },
  {
   "cell_type": "code",
   "execution_count": 14,
   "metadata": {},
   "outputs": [],
   "source": [
    "batch_d = pd.concat([df[60:64], te_students_attendance64(4, '2017-12-19', '2018-03-28')], axis = 1)"
   ]
  },
  {
   "cell_type": "code",
   "execution_count": 15,
   "metadata": {},
   "outputs": [],
   "source": [
    "batch_d.to_csv(\"batch_d.csv\")"
   ]
  },
  {
   "cell_type": "code",
   "execution_count": 16,
   "metadata": {},
   "outputs": [],
   "source": [
    "import pandas as pd\n",
    "from pandas.tseries.holiday import USFederalHolidayCalendar\n",
    "\n",
    "# Generate a date range for the year 2017\n",
    "dates_2017 = pd.date_range(start='2017-12-19', end='2018-03-28')\n",
    "\n",
    "# Get the day of the week for each date\n",
    "weekdays = dates_2017.weekday\n",
    "\n",
    "# Get the dates of Saturdays, Sundays, and holidays\n",
    "fridays = dates_2017[weekdays == 6]\n",
    "tuesdays = dates_2017[weekdays == 5]\n",
    "wednedays = dates_2017[weekdays == 6]\n",
    "thursday = dates_2017[weekdays == 5]\n",
    "\n",
    "\n",
    "cal = USFederalHolidayCalendar()\n",
    "holidays = cal.holidays(start='2017-12-19', end='2018-03-28')\n"
   ]
  },
  {
   "cell_type": "code",
   "execution_count": 17,
   "metadata": {},
   "outputs": [
    {
     "data": {
      "text/plain": [
       "DatetimeIndex(['2017-12-24', '2017-12-31', '2018-01-07', '2018-01-14',\n",
       "               '2018-01-21', '2018-01-28', '2018-02-04', '2018-02-11',\n",
       "               '2018-02-18', '2018-02-25', '2018-03-04', '2018-03-11',\n",
       "               '2018-03-18', '2018-03-25'],\n",
       "              dtype='datetime64[ns]', freq=None)"
      ]
     },
     "execution_count": 17,
     "metadata": {},
     "output_type": "execute_result"
    }
   ],
   "source": [
    "fridays"
   ]
  },
  {
   "cell_type": "code",
   "execution_count": 18,
   "metadata": {},
   "outputs": [
    {
     "data": {
      "text/plain": [
       "DatetimeIndex(['2017-12-23', '2017-12-30', '2018-01-06', '2018-01-13',\n",
       "               '2018-01-20', '2018-01-27', '2018-02-03', '2018-02-10',\n",
       "               '2018-02-17', '2018-02-24', '2018-03-03', '2018-03-10',\n",
       "               '2018-03-17', '2018-03-24'],\n",
       "              dtype='datetime64[ns]', freq=None)"
      ]
     },
     "execution_count": 18,
     "metadata": {},
     "output_type": "execute_result"
    }
   ],
   "source": [
    "tuesdays"
   ]
  },
  {
   "cell_type": "code",
   "execution_count": 19,
   "metadata": {},
   "outputs": [
    {
     "data": {
      "text/plain": [
       "DatetimeIndex(['2017-12-24', '2017-12-31', '2018-01-07', '2018-01-14',\n",
       "               '2018-01-21', '2018-01-28', '2018-02-04', '2018-02-11',\n",
       "               '2018-02-18', '2018-02-25', '2018-03-04', '2018-03-11',\n",
       "               '2018-03-18', '2018-03-25'],\n",
       "              dtype='datetime64[ns]', freq=None)"
      ]
     },
     "execution_count": 19,
     "metadata": {},
     "output_type": "execute_result"
    }
   ],
   "source": [
    "wednedays"
   ]
  },
  {
   "cell_type": "code",
   "execution_count": 20,
   "metadata": {},
   "outputs": [
    {
     "data": {
      "text/plain": [
       "DatetimeIndex(['2017-12-23', '2017-12-30', '2018-01-06', '2018-01-13',\n",
       "               '2018-01-20', '2018-01-27', '2018-02-03', '2018-02-10',\n",
       "               '2018-02-17', '2018-02-24', '2018-03-03', '2018-03-10',\n",
       "               '2018-03-17', '2018-03-24'],\n",
       "              dtype='datetime64[ns]', freq=None)"
      ]
     },
     "execution_count": 20,
     "metadata": {},
     "output_type": "execute_result"
    }
   ],
   "source": [
    "thursday"
   ]
  },
  {
   "cell_type": "code",
   "execution_count": null,
   "metadata": {},
   "outputs": [],
   "source": []
  }
 ],
 "metadata": {
  "kernelspec": {
   "display_name": "Python 3",
   "language": "python",
   "name": "python3"
  },
  "language_info": {
   "codemirror_mode": {
    "name": "ipython",
    "version": 3
   },
   "file_extension": ".py",
   "mimetype": "text/x-python",
   "name": "python",
   "nbconvert_exporter": "python",
   "pygments_lexer": "ipython3",
   "version": "3.10.0"
  },
  "orig_nbformat": 4
 },
 "nbformat": 4,
 "nbformat_minor": 2
}
