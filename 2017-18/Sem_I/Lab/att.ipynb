{
 "cells": [
  {
   "cell_type": "code",
   "execution_count": 4,
   "metadata": {},
   "outputs": [],
   "source": [
    "import numpy as np\n",
    "import pandas as pd"
   ]
  },
  {
   "cell_type": "code",
   "execution_count": 5,
   "metadata": {},
   "outputs": [],
   "source": [
    "df = pd.read_excel(\"D:\\Downloads\\Roll Call SE, TE _ BE Mech AY 2017-18.xlsx\")"
   ]
  },
  {
   "cell_type": "code",
   "execution_count": 6,
   "metadata": {},
   "outputs": [],
   "source": [
    "df['Name of Student'] = [i.title() for i in df['Name of Student']]"
   ]
  },
  {
   "cell_type": "code",
   "execution_count": 7,
   "metadata": {},
   "outputs": [
    {
     "data": {
      "text/html": [
       "<div>\n",
       "<style scoped>\n",
       "    .dataframe tbody tr th:only-of-type {\n",
       "        vertical-align: middle;\n",
       "    }\n",
       "\n",
       "    .dataframe tbody tr th {\n",
       "        vertical-align: top;\n",
       "    }\n",
       "\n",
       "    .dataframe thead th {\n",
       "        text-align: right;\n",
       "    }\n",
       "</style>\n",
       "<table border=\"1\" class=\"dataframe\">\n",
       "  <thead>\n",
       "    <tr style=\"text-align: right;\">\n",
       "      <th></th>\n",
       "      <th>Roll No.</th>\n",
       "      <th>Name of Student</th>\n",
       "    </tr>\n",
       "  </thead>\n",
       "  <tbody>\n",
       "    <tr>\n",
       "      <th>0</th>\n",
       "      <td>1</td>\n",
       "      <td>Aigalikar Giri Sudhir</td>\n",
       "    </tr>\n",
       "    <tr>\n",
       "      <th>1</th>\n",
       "      <td>2</td>\n",
       "      <td>Apale Sahil Jayantrao</td>\n",
       "    </tr>\n",
       "    <tr>\n",
       "      <th>2</th>\n",
       "      <td>3</td>\n",
       "      <td>Arpit Shah</td>\n",
       "    </tr>\n",
       "    <tr>\n",
       "      <th>3</th>\n",
       "      <td>4</td>\n",
       "      <td>Bandgar Akshay Sampat</td>\n",
       "    </tr>\n",
       "    <tr>\n",
       "      <th>4</th>\n",
       "      <td>5</td>\n",
       "      <td>Bhuwad Sanket Santosh</td>\n",
       "    </tr>\n",
       "  </tbody>\n",
       "</table>\n",
       "</div>"
      ],
      "text/plain": [
       "   Roll No.        Name of Student\n",
       "0         1  Aigalikar Giri Sudhir\n",
       "1         2  Apale Sahil Jayantrao\n",
       "2         3             Arpit Shah\n",
       "3         4  Bandgar Akshay Sampat\n",
       "4         5  Bhuwad Sanket Santosh"
      ]
     },
     "execution_count": 7,
     "metadata": {},
     "output_type": "execute_result"
    }
   ],
   "source": [
    "df.head()"
   ]
  },
  {
   "attachments": {},
   "cell_type": "markdown",
   "metadata": {},
   "source": [
    "**BATCH A PRACTICAL ATTENDANCE**"
   ]
  },
  {
   "cell_type": "code",
   "execution_count": 45,
   "metadata": {},
   "outputs": [],
   "source": [
    "import random\n",
    "import pandas as pd\n",
    "import numpy as np\n",
    "import datetime\n",
    "from pandas.tseries.holiday import USFederalHolidayCalendar\n",
    "from pandas.tseries.offsets import CustomBusinessDay\n",
    "import pandas as pd\n",
    "import holidays\n",
    "\n",
    "def lab_students_att_a(n, start_year, start_date, end_date):\n",
    "    \n",
    "    students = range(n)\n",
    "    \n",
    "    # Set the start and end dates\n",
    "    start_date = pd.Timestamp(start_date)\n",
    "    end_date = pd.Timestamp(end_date)\n",
    "\n",
    "    # Get the Indian holidays for 2021\n",
    "    indian_holidays = holidays.IND(years=[start_year, start_year+0])\n",
    "\n",
    "    custom_business_day = CustomBusinessDay(weekmask='Wed', holidays=indian_holidays)\n",
    "\n",
    "    # Generate a range of dates between the start and end dates\n",
    "    date_range = pd.date_range(start=start_date, end=end_date, freq=custom_business_day).strftime(\"%Y-%m-%d\")\n",
    "       \n",
    "    practical_attendance = {}\n",
    "\n",
    "    for student in students:        \n",
    "        \n",
    "        practical_attendance[student] = []        \n",
    "                \n",
    "        for day in date_range:\n",
    "            practical_attendance[student].append('P' if random.random() < 0.9 else 'A')\n",
    "            \n",
    "               \n",
    "    df31 = pd.DataFrame.from_dict(practical_attendance, orient='index', columns=date_range)\n",
    "        \n",
    "    df31['Present'] = df31.apply(lambda x: x[x == 'P'].count(), axis=1)\n",
    "    df31['Absent'] = df31.apply(lambda x: x[x == 'A'].count(), axis=1)\n",
    "    df31['%Att'] = round(df31['Present'] /len(date_range) * 100,1)\n",
    "    df31['MARKS1'] = [random.randint(6,10) for i in range(0,n)]\n",
    "\n",
    "    for i, date in enumerate(date_range):\n",
    "        df31[f'MARKS{i+1}'] = np.random.choice(df31['MARKS1'], size=n)\n",
    "\n",
    "    df = df31\n",
    "\n",
    "    return df"
   ]
  },
  {
   "cell_type": "code",
   "execution_count": 46,
   "metadata": {},
   "outputs": [],
   "source": [
    "d_a = pd.concat([df[0:20], lab_students_att_a(20, 2017, '2017-06-15', '2017-09-29')], axis = 1)\n",
    "d_a = d_a.set_index(\"Roll No.\")\n",
    "#d_a.to_excel(\"D:\\\\Downloads\\\\New folder\\\\2017-18\\\\SEM_I\\\\BATCH_A.xlsx\")\n",
    "d_a.to_csv(\"BATCH_A.csv\")"
   ]
  },
  {
   "attachments": {},
   "cell_type": "markdown",
   "metadata": {},
   "source": [
    "**BATCH B PRACTICAL ATTENDANCE**"
   ]
  },
  {
   "cell_type": "code",
   "execution_count": 48,
   "metadata": {},
   "outputs": [],
   "source": [
    "import random\n",
    "import pandas as pd\n",
    "import numpy as np\n",
    "import datetime\n",
    "from pandas.tseries.holiday import USFederalHolidayCalendar\n",
    "from pandas.tseries.offsets import CustomBusinessDay\n",
    "import pandas as pd\n",
    "import holidays\n",
    "\n",
    "def lab_students_att_b(n, start_year, start_date, end_date):\n",
    "    \n",
    "    students = range(20,40)\n",
    "    \n",
    "    # Set the start and end dates\n",
    "    start_date = pd.Timestamp(start_date)\n",
    "    end_date = pd.Timestamp(end_date)\n",
    "\n",
    "    # Get the Indian holidays for 2021\n",
    "    indian_holidays = holidays.IND(years=[start_year, start_year+0])\n",
    "\n",
    "    custom_business_day = CustomBusinessDay(weekmask='Tue', holidays=indian_holidays)\n",
    "\n",
    "    # Generate a range of dates between the start and end dates\n",
    "    date_range = pd.date_range(start=start_date, end=end_date, freq=custom_business_day).strftime(\"%Y-%m-%d\")\n",
    "       \n",
    "    practical_attendance = {}\n",
    "\n",
    "    for student in students:        \n",
    "        \n",
    "        practical_attendance[student] = []        \n",
    "                \n",
    "        for day in date_range:\n",
    "            practical_attendance[student].append('P' if random.random() < 0.9 else 'A')\n",
    "            \n",
    "               \n",
    "    df31 = pd.DataFrame.from_dict(practical_attendance, orient='index', columns=date_range)\n",
    "        \n",
    "    df31['Present'] = df31.apply(lambda x: x[x == 'P'].count(), axis=1)\n",
    "    df31['Absent'] = df31.apply(lambda x: x[x == 'A'].count(), axis=1)\n",
    "    df31['%Att'] = round(df31['Present'] /len(date_range) * 100,1)\n",
    "    df31['MARKS1'] = [random.randint(6,10) for i in range(0,n)]\n",
    "\n",
    "    for i, date in enumerate(date_range):\n",
    "        df31[f'MARKS{i+1}'] = np.random.choice(df31['MARKS1'], size=n)\n",
    "\n",
    "    df = df31\n",
    "\n",
    "    return df"
   ]
  },
  {
   "cell_type": "code",
   "execution_count": 49,
   "metadata": {},
   "outputs": [],
   "source": [
    "d_b = pd.concat([df[20:40], lab_students_att_b(20, 2017, '2017-06-15', '2017-09-29')], axis = 1)\n",
    "d_b = d_b.set_index(\"Roll No.\")\n",
    "#d_b.to_excel(\"D:\\\\Downloads\\\\New folder\\\\2017-18\\\\SEM_I\\\\BATCH_B.xlsx\")\n",
    "d_b.to_csv(\"BATCH_B.csv\")"
   ]
  },
  {
   "attachments": {},
   "cell_type": "markdown",
   "metadata": {},
   "source": [
    "**BATCH C PRACTICAL ATTENDANCE**"
   ]
  },
  {
   "cell_type": "code",
   "execution_count": 50,
   "metadata": {},
   "outputs": [],
   "source": [
    "import random\n",
    "import pandas as pd\n",
    "import numpy as np\n",
    "import datetime\n",
    "from pandas.tseries.holiday import USFederalHolidayCalendar\n",
    "from pandas.tseries.offsets import CustomBusinessDay\n",
    "import pandas as pd\n",
    "import holidays\n",
    "\n",
    "def lab_students_att_c(n, start_year, start_date, end_date):\n",
    "    \n",
    "    students = range(40,60)\n",
    "    \n",
    "    # Set the start and end dates\n",
    "    start_date = pd.Timestamp(start_date)\n",
    "    end_date = pd.Timestamp(end_date)\n",
    "\n",
    "    # Get the Indian holidays for 2021\n",
    "    indian_holidays = holidays.IND(years=[start_year, start_year+0])\n",
    "\n",
    "    custom_business_day = CustomBusinessDay(weekmask='Fri', holidays=indian_holidays)\n",
    "\n",
    "    # Generate a range of dates between the start and end dates\n",
    "    date_range = pd.date_range(start=start_date, end=end_date, freq=custom_business_day).strftime(\"%Y-%m-%d\")\n",
    "       \n",
    "    practical_attendance = {}\n",
    "\n",
    "    for student in students:        \n",
    "        \n",
    "        practical_attendance[student] = []        \n",
    "                \n",
    "        for day in date_range:\n",
    "            practical_attendance[student].append('P' if random.random() < 0.9 else 'A')\n",
    "            \n",
    "               \n",
    "    df31 = pd.DataFrame.from_dict(practical_attendance, orient='index', columns=date_range)\n",
    "        \n",
    "    df31['Present'] = df31.apply(lambda x: x[x == 'P'].count(), axis=1)\n",
    "    df31['Absent'] = df31.apply(lambda x: x[x == 'A'].count(), axis=1)\n",
    "    df31['%Att'] = round(df31['Present'] /len(date_range) * 100,1)\n",
    "    df31['MARKS1'] = [random.randint(6,10) for i in range(0,n)]\n",
    "\n",
    "    for i, date in enumerate(date_range):\n",
    "        df31[f'MARKS{i+1}'] = np.random.choice(df31['MARKS1'], size=n)\n",
    "\n",
    "    df = df31\n",
    "\n",
    "    return df"
   ]
  },
  {
   "cell_type": "code",
   "execution_count": 51,
   "metadata": {},
   "outputs": [],
   "source": [
    "d_c = pd.concat([df[40:60], lab_students_att_c(20, 2017, '2017-06-15', '2017-09-29')], axis = 1)\n",
    "d_c = d_c.set_index(\"Roll No.\")\n",
    "#d_c.to_excel(\"D:\\\\Downloads\\\\New folder\\\\2017-18\\\\SEM_I\\\\BATCH_C.xlsx\")\n",
    "d_c.to_csv(\"BATCH_C.csv\")"
   ]
  },
  {
   "attachments": {},
   "cell_type": "markdown",
   "metadata": {},
   "source": [
    "**BATCH D PRACTICAL ATTENDANCE**"
   ]
  },
  {
   "cell_type": "code",
   "execution_count": 52,
   "metadata": {},
   "outputs": [],
   "source": [
    "import random\n",
    "import pandas as pd\n",
    "import numpy as np\n",
    "import datetime\n",
    "from pandas.tseries.holiday import USFederalHolidayCalendar\n",
    "from pandas.tseries.offsets import CustomBusinessDay\n",
    "import pandas as pd\n",
    "import holidays\n",
    "\n",
    "def lab_students_att_d(n, start_year, start_date, end_date):\n",
    "    \n",
    "    students = range(60, 63)\n",
    "    \n",
    "    # Set the start and end dates\n",
    "    start_date = pd.Timestamp(start_date)\n",
    "    end_date = pd.Timestamp(end_date)\n",
    "\n",
    "    # Get the Indian holidays for 2021\n",
    "    indian_holidays = holidays.IND(years=[start_year, start_year+0])\n",
    "\n",
    "    custom_business_day = CustomBusinessDay(weekmask='Thu', holidays=indian_holidays)\n",
    "\n",
    "    # Generate a range of dates between the start and end dates\n",
    "    date_range = pd.date_range(start=start_date, end=end_date, freq=custom_business_day).strftime(\"%Y-%m-%d\")\n",
    "       \n",
    "    practical_attendance = {}\n",
    "\n",
    "    for student in students:        \n",
    "        \n",
    "        practical_attendance[student] = []        \n",
    "                \n",
    "        for day in date_range:\n",
    "            practical_attendance[student].append('P' if random.random() < 0.9 else 'A')\n",
    "            \n",
    "               \n",
    "    df31 = pd.DataFrame.from_dict(practical_attendance, orient='index', columns=date_range)\n",
    "        \n",
    "    df31['Present'] = df31.apply(lambda x: x[x == 'P'].count(), axis=1)\n",
    "    df31['Absent'] = df31.apply(lambda x: x[x == 'A'].count(), axis=1)\n",
    "    df31['%Att'] = round(df31['Present'] /len(date_range) * 100,1)\n",
    "    df31['MARKS1'] = [random.randint(6,10) for i in range(0,n)]\n",
    "\n",
    "    for i, date in enumerate(date_range):\n",
    "        df31[f'MARKS{i+1}'] = np.random.choice(df31['MARKS1'], size=n)\n",
    "\n",
    "    df = df31\n",
    "\n",
    "    return df"
   ]
  },
  {
   "cell_type": "code",
   "execution_count": 44,
   "metadata": {},
   "outputs": [],
   "source": [
    "d_d = pd.concat([df[60:63],lab_students_att_d(3,2017,'2017-06-15', '2017-09-29')], axis = 1)\n",
    "d_d = d_d.set_index(\"Roll No.\")\n",
    "#d_d.to_excel(\"D:\\\\Downloads\\\\New folder\\\\2017-18\\\\SEM_I\\\\BATCH_D.xlsx\")\n",
    "d_d.to_csv(\"BATCH_D.csv\")"
   ]
  }
 ],
 "metadata": {
  "kernelspec": {
   "display_name": "Python 3",
   "language": "python",
   "name": "python3"
  },
  "language_info": {
   "codemirror_mode": {
    "name": "ipython",
    "version": 3
   },
   "file_extension": ".py",
   "mimetype": "text/x-python",
   "name": "python",
   "nbconvert_exporter": "python",
   "pygments_lexer": "ipython3",
   "version": "3.10.0"
  },
  "orig_nbformat": 4
 },
 "nbformat": 4,
 "nbformat_minor": 2
}
