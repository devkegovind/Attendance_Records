{
 "cells": [
  {
   "cell_type": "code",
   "execution_count": 2,
   "metadata": {},
   "outputs": [],
   "source": [
    "import numpy as np\n",
    "import pandas as pd"
   ]
  },
  {
   "cell_type": "code",
   "execution_count": 3,
   "metadata": {},
   "outputs": [],
   "source": [
    "df = pd.read_excel(\"D:\\Downloads\\Roll Call SE, TE _ BE Mech AY 2017-18.xlsx\")"
   ]
  },
  {
   "cell_type": "code",
   "execution_count": 4,
   "metadata": {},
   "outputs": [
    {
     "data": {
      "text/html": [
       "<div>\n",
       "<style scoped>\n",
       "    .dataframe tbody tr th:only-of-type {\n",
       "        vertical-align: middle;\n",
       "    }\n",
       "\n",
       "    .dataframe tbody tr th {\n",
       "        vertical-align: top;\n",
       "    }\n",
       "\n",
       "    .dataframe thead th {\n",
       "        text-align: right;\n",
       "    }\n",
       "</style>\n",
       "<table border=\"1\" class=\"dataframe\">\n",
       "  <thead>\n",
       "    <tr style=\"text-align: right;\">\n",
       "      <th></th>\n",
       "      <th>Roll No.</th>\n",
       "      <th>Name of Student</th>\n",
       "    </tr>\n",
       "  </thead>\n",
       "  <tbody>\n",
       "    <tr>\n",
       "      <th>0</th>\n",
       "      <td>1</td>\n",
       "      <td>AIGALIKAR GIRI SUDHIR</td>\n",
       "    </tr>\n",
       "    <tr>\n",
       "      <th>1</th>\n",
       "      <td>2</td>\n",
       "      <td>APALE SAHIL JAYANTRAO</td>\n",
       "    </tr>\n",
       "    <tr>\n",
       "      <th>2</th>\n",
       "      <td>3</td>\n",
       "      <td>ARPIT SHAH</td>\n",
       "    </tr>\n",
       "    <tr>\n",
       "      <th>3</th>\n",
       "      <td>4</td>\n",
       "      <td>BANDGAR AKSHAY SAMPAT</td>\n",
       "    </tr>\n",
       "    <tr>\n",
       "      <th>4</th>\n",
       "      <td>5</td>\n",
       "      <td>BHUWAD SANKET SANTOSH</td>\n",
       "    </tr>\n",
       "    <tr>\n",
       "      <th>...</th>\n",
       "      <td>...</td>\n",
       "      <td>...</td>\n",
       "    </tr>\n",
       "    <tr>\n",
       "      <th>59</th>\n",
       "      <td>60</td>\n",
       "      <td>SALUNKE SHUBHAM BHASKARRAO</td>\n",
       "    </tr>\n",
       "    <tr>\n",
       "      <th>60</th>\n",
       "      <td>61</td>\n",
       "      <td>WATPADE SHUBHAM DNYANESHWAR</td>\n",
       "    </tr>\n",
       "    <tr>\n",
       "      <th>61</th>\n",
       "      <td>62</td>\n",
       "      <td>SWARALI SADASHIV KHADTARE</td>\n",
       "    </tr>\n",
       "    <tr>\n",
       "      <th>62</th>\n",
       "      <td>63</td>\n",
       "      <td>YADAV DHANESH TANAJI</td>\n",
       "    </tr>\n",
       "    <tr>\n",
       "      <th>63</th>\n",
       "      <td>64</td>\n",
       "      <td>PATIL PULKESHI BHALCHANDRA</td>\n",
       "    </tr>\n",
       "  </tbody>\n",
       "</table>\n",
       "<p>64 rows × 2 columns</p>\n",
       "</div>"
      ],
      "text/plain": [
       "    Roll No.               Name of Student\n",
       "0          1         AIGALIKAR GIRI SUDHIR\n",
       "1          2         APALE SAHIL JAYANTRAO\n",
       "2          3                    ARPIT SHAH\n",
       "3          4         BANDGAR AKSHAY SAMPAT\n",
       "4          5         BHUWAD SANKET SANTOSH\n",
       "..       ...                           ...\n",
       "59        60    SALUNKE SHUBHAM BHASKARRAO\n",
       "60        61  WATPADE SHUBHAM DNYANESHWAR \n",
       "61        62     SWARALI SADASHIV KHADTARE\n",
       "62        63          YADAV DHANESH TANAJI\n",
       "63        64    PATIL PULKESHI BHALCHANDRA\n",
       "\n",
       "[64 rows x 2 columns]"
      ]
     },
     "execution_count": 4,
     "metadata": {},
     "output_type": "execute_result"
    }
   ],
   "source": [
    "df"
   ]
  },
  {
   "cell_type": "code",
   "execution_count": 5,
   "metadata": {},
   "outputs": [],
   "source": [
    "df['Name of Student'] = [i.title() for i in df['Name of Student']]"
   ]
  },
  {
   "cell_type": "code",
   "execution_count": 6,
   "metadata": {},
   "outputs": [
    {
     "data": {
      "text/html": [
       "<div>\n",
       "<style scoped>\n",
       "    .dataframe tbody tr th:only-of-type {\n",
       "        vertical-align: middle;\n",
       "    }\n",
       "\n",
       "    .dataframe tbody tr th {\n",
       "        vertical-align: top;\n",
       "    }\n",
       "\n",
       "    .dataframe thead th {\n",
       "        text-align: right;\n",
       "    }\n",
       "</style>\n",
       "<table border=\"1\" class=\"dataframe\">\n",
       "  <thead>\n",
       "    <tr style=\"text-align: right;\">\n",
       "      <th></th>\n",
       "      <th>Roll No.</th>\n",
       "      <th>Name of Student</th>\n",
       "    </tr>\n",
       "  </thead>\n",
       "  <tbody>\n",
       "    <tr>\n",
       "      <th>0</th>\n",
       "      <td>1</td>\n",
       "      <td>Aigalikar Giri Sudhir</td>\n",
       "    </tr>\n",
       "    <tr>\n",
       "      <th>1</th>\n",
       "      <td>2</td>\n",
       "      <td>Apale Sahil Jayantrao</td>\n",
       "    </tr>\n",
       "    <tr>\n",
       "      <th>2</th>\n",
       "      <td>3</td>\n",
       "      <td>Arpit Shah</td>\n",
       "    </tr>\n",
       "    <tr>\n",
       "      <th>3</th>\n",
       "      <td>4</td>\n",
       "      <td>Bandgar Akshay Sampat</td>\n",
       "    </tr>\n",
       "    <tr>\n",
       "      <th>4</th>\n",
       "      <td>5</td>\n",
       "      <td>Bhuwad Sanket Santosh</td>\n",
       "    </tr>\n",
       "  </tbody>\n",
       "</table>\n",
       "</div>"
      ],
      "text/plain": [
       "   Roll No.        Name of Student\n",
       "0         1  Aigalikar Giri Sudhir\n",
       "1         2  Apale Sahil Jayantrao\n",
       "2         3             Arpit Shah\n",
       "3         4  Bandgar Akshay Sampat\n",
       "4         5  Bhuwad Sanket Santosh"
      ]
     },
     "execution_count": 6,
     "metadata": {},
     "output_type": "execute_result"
    }
   ],
   "source": [
    "df.head()"
   ]
  },
  {
   "cell_type": "code",
   "execution_count": 7,
   "metadata": {},
   "outputs": [],
   "source": [
    "df.to_csv(\"BE-3.csv\")"
   ]
  },
  {
   "attachments": {},
   "cell_type": "markdown",
   "metadata": {},
   "source": [
    "**SEMESTER ATTENDANCE**"
   ]
  },
  {
   "cell_type": "code",
   "execution_count": 6,
   "metadata": {},
   "outputs": [],
   "source": [
    "import random\n",
    "import pandas as pd\n",
    "import numpy as np\n",
    "import datetime\n",
    "from pandas.tseries.holiday import USFederalHolidayCalendar\n",
    "from pandas.tseries.offsets import CustomBusinessDay\n",
    "import pandas as pd\n",
    "import holidays\n",
    "\n",
    "def sem_students_attendance(n, start_year, start_date, end_date):\n",
    "\n",
    "    students = range(n)\n",
    "    \n",
    "    # Set the start and end dates\n",
    "    start_date = pd.Timestamp(start_date)\n",
    "    end_date = pd.Timestamp(end_date)\n",
    "\n",
    "    # Get the Indian holidays for 2021\n",
    "    indian_holidays = holidays.IND(years=[start_year, start_year+0])\n",
    "\n",
    "    custom_business_day = CustomBusinessDay(weekmask='Tue Wed Thu Fri', holidays=indian_holidays)\n",
    "\n",
    "    # Generate a range of dates between the start and end dates\n",
    "    date_range = pd.date_range(start=start_date, end=end_date, freq=custom_business_day).strftime('%Y-%m-%d')\n",
    "    \n",
    "\n",
    "\n",
    "    attendance_records1 = {}\n",
    "    \n",
    "    for student in students:\n",
    "        attendance_records1[student] = []\n",
    "        \n",
    "        for day in date_range:\n",
    "            attendance_records1[student].append('P' if random.random() < 0.85 else 'A')\n",
    "                \n",
    "    df = pd.DataFrame.from_dict(attendance_records1, orient='index', columns=date_range)\n",
    "    df['Present'] = df.apply(lambda x: x[x == 'P'].count(), axis=1)\n",
    "    df['Absent'] = df.apply(lambda x: x[x == 'A'].count(), axis=1)\n",
    "    df['%Att'] = round(df['Present'] / len(date_range) * 100)\n",
    "     \n",
    "    return df"
   ]
  },
  {
   "cell_type": "code",
   "execution_count": 7,
   "metadata": {},
   "outputs": [],
   "source": [
    "d1 = pd.concat([df, sem_students_attendance(64, 2017, '2017-06-15', '2017-09-29')], axis = 1)\n",
    "d1 = d1.set_index(\"Roll No.\")\n",
    "d1.to_excel(\"D:\\\\Downloads\\\\New folder\\\\2017-18\\\\SEM_I\\\\SEM_ATT.xlsx\")\n",
    "d1.to_csv(\"SEM_ATT.csv\")"
   ]
  },
  {
   "attachments": {},
   "cell_type": "markdown",
   "metadata": {},
   "source": [
    "**First Monthly Attendance**"
   ]
  },
  {
   "cell_type": "code",
   "execution_count": 8,
   "metadata": {},
   "outputs": [],
   "source": [
    "d2 = pd.concat([df,sem_students_attendance(64, 2017, '2017-06-15', '2017-07-15')], axis =1)\n",
    "d2 = d2.set_index(\"Roll No.\")\n",
    "#d2.to_excel(\"D:\\\\Downloads\\\\New folder\\\\2017-18\\\\SEM_I\\\\FIRST_ATT.xlsx\")\n",
    "d2.to_csv(\"FIRST_MONTH_ATT.csv\")"
   ]
  },
  {
   "attachments": {},
   "cell_type": "markdown",
   "metadata": {},
   "source": [
    "**Second Monthly Attendance**"
   ]
  },
  {
   "cell_type": "code",
   "execution_count": 9,
   "metadata": {},
   "outputs": [],
   "source": [
    "d3 = pd.concat([df,sem_students_attendance(64, 2017,'2017-07-16', '2017-08-16')], axis =1)\n",
    "d3 = d3.set_index(\"Roll No.\")\n",
    "#d3.to_excel(\"D:\\\\Downloads\\\\New folder\\\\2017-18\\\\SEM_I\\\\SECOND_ATT.xlsx\")\n",
    "d3.to_csv(\"SECOND_MONTH_ATT.csv\")"
   ]
  }
 ],
 "metadata": {
  "kernelspec": {
   "display_name": "Python 3",
   "language": "python",
   "name": "python3"
  },
  "language_info": {
   "codemirror_mode": {
    "name": "ipython",
    "version": 3
   },
   "file_extension": ".py",
   "mimetype": "text/x-python",
   "name": "python",
   "nbconvert_exporter": "python",
   "pygments_lexer": "ipython3",
   "version": "3.10.0"
  },
  "orig_nbformat": 4
 },
 "nbformat": 4,
 "nbformat_minor": 2
}
